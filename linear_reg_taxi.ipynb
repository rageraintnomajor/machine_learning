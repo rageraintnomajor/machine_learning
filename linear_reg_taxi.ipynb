{
 "cells": [
  {
   "cell_type": "code",
   "execution_count": null,
   "metadata": {},
   "outputs": [],
   "source": []
  },
  {
   "cell_type": "code",
   "execution_count": 18,
   "metadata": {},
   "outputs": [],
   "source": [
    "\n",
    "#general\n",
    "import io\n",
    "\n",
    "# data\n",
    "import numpy as np\n",
    "import pandas as pd\n",
    "\n",
    "# machine learning\n",
    "import keras\n",
    "\n",
    "# data visualization\n",
    "import plotly.express as px\n",
    "from plotly.subplots import make_subplots\n",
    "import plotly.graph_objects as go\n",
    "import seaborn as sns"
   ]
  },
  {
   "cell_type": "code",
   "execution_count": 19,
   "metadata": {},
   "outputs": [],
   "source": [
    "chicago_taxi_dataset = pd.read_csv(\"https://download.mlcc.google.com/mledu-datasets/chicago_taxi_train.csv\")"
   ]
  },
  {
   "cell_type": "code",
   "execution_count": 20,
   "metadata": {},
   "outputs": [
    {
     "name": "stdout",
     "output_type": "stream",
     "text": [
      "Read dataset completed successfully.\n",
      "Total number of rows: 31694\n",
      "\n",
      "\n"
     ]
    },
    {
     "data": {
      "text/html": [
       "<div>\n",
       "<style scoped>\n",
       "    .dataframe tbody tr th:only-of-type {\n",
       "        vertical-align: middle;\n",
       "    }\n",
       "\n",
       "    .dataframe tbody tr th {\n",
       "        vertical-align: top;\n",
       "    }\n",
       "\n",
       "    .dataframe thead th {\n",
       "        text-align: right;\n",
       "    }\n",
       "</style>\n",
       "<table border=\"1\" class=\"dataframe\">\n",
       "  <thead>\n",
       "    <tr style=\"text-align: right;\">\n",
       "      <th></th>\n",
       "      <th>TRIP_MILES</th>\n",
       "      <th>TRIP_SECONDS</th>\n",
       "      <th>FARE</th>\n",
       "      <th>COMPANY</th>\n",
       "      <th>PAYMENT_TYPE</th>\n",
       "      <th>TIP_RATE</th>\n",
       "    </tr>\n",
       "  </thead>\n",
       "  <tbody>\n",
       "    <tr>\n",
       "      <th>0</th>\n",
       "      <td>2.57</td>\n",
       "      <td>2341</td>\n",
       "      <td>31.99</td>\n",
       "      <td>Flash Cab</td>\n",
       "      <td>Mobile</td>\n",
       "      <td>6.3</td>\n",
       "    </tr>\n",
       "    <tr>\n",
       "      <th>1</th>\n",
       "      <td>1.18</td>\n",
       "      <td>1074</td>\n",
       "      <td>9.75</td>\n",
       "      <td>Flash Cab</td>\n",
       "      <td>Credit Card</td>\n",
       "      <td>27.9</td>\n",
       "    </tr>\n",
       "    <tr>\n",
       "      <th>2</th>\n",
       "      <td>1.29</td>\n",
       "      <td>1173</td>\n",
       "      <td>10.25</td>\n",
       "      <td>Sun Taxi</td>\n",
       "      <td>Cash</td>\n",
       "      <td>0.0</td>\n",
       "    </tr>\n",
       "    <tr>\n",
       "      <th>3</th>\n",
       "      <td>3.70</td>\n",
       "      <td>3360</td>\n",
       "      <td>23.75</td>\n",
       "      <td>Choice Taxi Association</td>\n",
       "      <td>Cash</td>\n",
       "      <td>0.0</td>\n",
       "    </tr>\n",
       "    <tr>\n",
       "      <th>4</th>\n",
       "      <td>1.15</td>\n",
       "      <td>1044</td>\n",
       "      <td>10.00</td>\n",
       "      <td>Flash Cab</td>\n",
       "      <td>Cash</td>\n",
       "      <td>0.0</td>\n",
       "    </tr>\n",
       "    <tr>\n",
       "      <th>...</th>\n",
       "      <td>...</td>\n",
       "      <td>...</td>\n",
       "      <td>...</td>\n",
       "      <td>...</td>\n",
       "      <td>...</td>\n",
       "      <td>...</td>\n",
       "    </tr>\n",
       "    <tr>\n",
       "      <th>195</th>\n",
       "      <td>1.13</td>\n",
       "      <td>821</td>\n",
       "      <td>9.00</td>\n",
       "      <td>Blue Ribbon Taxi Association</td>\n",
       "      <td>Mobile</td>\n",
       "      <td>22.9</td>\n",
       "    </tr>\n",
       "    <tr>\n",
       "      <th>196</th>\n",
       "      <td>0.57</td>\n",
       "      <td>414</td>\n",
       "      <td>6.00</td>\n",
       "      <td>Flash Cab</td>\n",
       "      <td>Cash</td>\n",
       "      <td>0.0</td>\n",
       "    </tr>\n",
       "    <tr>\n",
       "      <th>197</th>\n",
       "      <td>1.22</td>\n",
       "      <td>886</td>\n",
       "      <td>9.00</td>\n",
       "      <td>City Service</td>\n",
       "      <td>Cash</td>\n",
       "      <td>0.0</td>\n",
       "    </tr>\n",
       "    <tr>\n",
       "      <th>198</th>\n",
       "      <td>1.68</td>\n",
       "      <td>1219</td>\n",
       "      <td>9.00</td>\n",
       "      <td>Sun Taxi</td>\n",
       "      <td>Mobile</td>\n",
       "      <td>23.0</td>\n",
       "    </tr>\n",
       "    <tr>\n",
       "      <th>199</th>\n",
       "      <td>0.71</td>\n",
       "      <td>515</td>\n",
       "      <td>6.50</td>\n",
       "      <td>Sun Taxi</td>\n",
       "      <td>Credit Card</td>\n",
       "      <td>18.2</td>\n",
       "    </tr>\n",
       "  </tbody>\n",
       "</table>\n",
       "<p>200 rows × 6 columns</p>\n",
       "</div>"
      ],
      "text/plain": [
       "     TRIP_MILES  TRIP_SECONDS   FARE                       COMPANY  \\\n",
       "0          2.57          2341  31.99                     Flash Cab   \n",
       "1          1.18          1074   9.75                     Flash Cab   \n",
       "2          1.29          1173  10.25                      Sun Taxi   \n",
       "3          3.70          3360  23.75       Choice Taxi Association   \n",
       "4          1.15          1044  10.00                     Flash Cab   \n",
       "..          ...           ...    ...                           ...   \n",
       "195        1.13           821   9.00  Blue Ribbon Taxi Association   \n",
       "196        0.57           414   6.00                     Flash Cab   \n",
       "197        1.22           886   9.00                  City Service   \n",
       "198        1.68          1219   9.00                      Sun Taxi   \n",
       "199        0.71           515   6.50                      Sun Taxi   \n",
       "\n",
       "    PAYMENT_TYPE  TIP_RATE  \n",
       "0         Mobile       6.3  \n",
       "1    Credit Card      27.9  \n",
       "2           Cash       0.0  \n",
       "3           Cash       0.0  \n",
       "4           Cash       0.0  \n",
       "..           ...       ...  \n",
       "195       Mobile      22.9  \n",
       "196         Cash       0.0  \n",
       "197         Cash       0.0  \n",
       "198       Mobile      23.0  \n",
       "199  Credit Card      18.2  \n",
       "\n",
       "[200 rows x 6 columns]"
      ]
     },
     "execution_count": 20,
     "metadata": {},
     "output_type": "execute_result"
    }
   ],
   "source": [
    "# Updates dataframe to use specific columns.\n",
    "training_df = chicago_taxi_dataset[['TRIP_MILES', 'TRIP_SECONDS', 'FARE', 'COMPANY', 'PAYMENT_TYPE', 'TIP_RATE']]\n",
    "\n",
    "print('Read dataset completed successfully.')\n",
    "print('Total number of rows: {0}\\n\\n'.format(len(training_df.index)))\n",
    "training_df.head(200)"
   ]
  },
  {
   "cell_type": "code",
   "execution_count": 21,
   "metadata": {},
   "outputs": [
    {
     "name": "stdout",
     "output_type": "stream",
     "text": [
      "Total number of rows: 31694\n",
      "\n",
      "\n"
     ]
    },
    {
     "data": {
      "text/html": [
       "<div>\n",
       "<style scoped>\n",
       "    .dataframe tbody tr th:only-of-type {\n",
       "        vertical-align: middle;\n",
       "    }\n",
       "\n",
       "    .dataframe tbody tr th {\n",
       "        vertical-align: top;\n",
       "    }\n",
       "\n",
       "    .dataframe thead th {\n",
       "        text-align: right;\n",
       "    }\n",
       "</style>\n",
       "<table border=\"1\" class=\"dataframe\">\n",
       "  <thead>\n",
       "    <tr style=\"text-align: right;\">\n",
       "      <th></th>\n",
       "      <th>TRIP_MILES</th>\n",
       "      <th>TRIP_SECONDS</th>\n",
       "      <th>FARE</th>\n",
       "      <th>COMPANY</th>\n",
       "      <th>PAYMENT_TYPE</th>\n",
       "      <th>TIP_RATE</th>\n",
       "    </tr>\n",
       "  </thead>\n",
       "  <tbody>\n",
       "    <tr>\n",
       "      <th>count</th>\n",
       "      <td>31694.000000</td>\n",
       "      <td>31694.000000</td>\n",
       "      <td>31694.000000</td>\n",
       "      <td>31694</td>\n",
       "      <td>31694</td>\n",
       "      <td>31694.000000</td>\n",
       "    </tr>\n",
       "    <tr>\n",
       "      <th>unique</th>\n",
       "      <td>NaN</td>\n",
       "      <td>NaN</td>\n",
       "      <td>NaN</td>\n",
       "      <td>31</td>\n",
       "      <td>7</td>\n",
       "      <td>NaN</td>\n",
       "    </tr>\n",
       "    <tr>\n",
       "      <th>top</th>\n",
       "      <td>NaN</td>\n",
       "      <td>NaN</td>\n",
       "      <td>NaN</td>\n",
       "      <td>Flash Cab</td>\n",
       "      <td>Credit Card</td>\n",
       "      <td>NaN</td>\n",
       "    </tr>\n",
       "    <tr>\n",
       "      <th>freq</th>\n",
       "      <td>NaN</td>\n",
       "      <td>NaN</td>\n",
       "      <td>NaN</td>\n",
       "      <td>7887</td>\n",
       "      <td>14142</td>\n",
       "      <td>NaN</td>\n",
       "    </tr>\n",
       "    <tr>\n",
       "      <th>mean</th>\n",
       "      <td>8.289463</td>\n",
       "      <td>1319.796397</td>\n",
       "      <td>23.905210</td>\n",
       "      <td>NaN</td>\n",
       "      <td>NaN</td>\n",
       "      <td>12.965785</td>\n",
       "    </tr>\n",
       "    <tr>\n",
       "      <th>std</th>\n",
       "      <td>7.265672</td>\n",
       "      <td>928.932873</td>\n",
       "      <td>16.970022</td>\n",
       "      <td>NaN</td>\n",
       "      <td>NaN</td>\n",
       "      <td>15.517765</td>\n",
       "    </tr>\n",
       "    <tr>\n",
       "      <th>min</th>\n",
       "      <td>0.500000</td>\n",
       "      <td>60.000000</td>\n",
       "      <td>3.250000</td>\n",
       "      <td>NaN</td>\n",
       "      <td>NaN</td>\n",
       "      <td>0.000000</td>\n",
       "    </tr>\n",
       "    <tr>\n",
       "      <th>25%</th>\n",
       "      <td>1.720000</td>\n",
       "      <td>548.000000</td>\n",
       "      <td>9.000000</td>\n",
       "      <td>NaN</td>\n",
       "      <td>NaN</td>\n",
       "      <td>0.000000</td>\n",
       "    </tr>\n",
       "    <tr>\n",
       "      <th>50%</th>\n",
       "      <td>5.920000</td>\n",
       "      <td>1081.000000</td>\n",
       "      <td>18.750000</td>\n",
       "      <td>NaN</td>\n",
       "      <td>NaN</td>\n",
       "      <td>12.200000</td>\n",
       "    </tr>\n",
       "    <tr>\n",
       "      <th>75%</th>\n",
       "      <td>14.500000</td>\n",
       "      <td>1888.000000</td>\n",
       "      <td>38.750000</td>\n",
       "      <td>NaN</td>\n",
       "      <td>NaN</td>\n",
       "      <td>20.800000</td>\n",
       "    </tr>\n",
       "    <tr>\n",
       "      <th>max</th>\n",
       "      <td>68.120000</td>\n",
       "      <td>7140.000000</td>\n",
       "      <td>159.250000</td>\n",
       "      <td>NaN</td>\n",
       "      <td>NaN</td>\n",
       "      <td>648.600000</td>\n",
       "    </tr>\n",
       "  </tbody>\n",
       "</table>\n",
       "</div>"
      ],
      "text/plain": [
       "          TRIP_MILES  TRIP_SECONDS          FARE    COMPANY PAYMENT_TYPE  \\\n",
       "count   31694.000000  31694.000000  31694.000000      31694        31694   \n",
       "unique           NaN           NaN           NaN         31            7   \n",
       "top              NaN           NaN           NaN  Flash Cab  Credit Card   \n",
       "freq             NaN           NaN           NaN       7887        14142   \n",
       "mean        8.289463   1319.796397     23.905210        NaN          NaN   \n",
       "std         7.265672    928.932873     16.970022        NaN          NaN   \n",
       "min         0.500000     60.000000      3.250000        NaN          NaN   \n",
       "25%         1.720000    548.000000      9.000000        NaN          NaN   \n",
       "50%         5.920000   1081.000000     18.750000        NaN          NaN   \n",
       "75%        14.500000   1888.000000     38.750000        NaN          NaN   \n",
       "max        68.120000   7140.000000    159.250000        NaN          NaN   \n",
       "\n",
       "            TIP_RATE  \n",
       "count   31694.000000  \n",
       "unique           NaN  \n",
       "top              NaN  \n",
       "freq             NaN  \n",
       "mean       12.965785  \n",
       "std        15.517765  \n",
       "min         0.000000  \n",
       "25%         0.000000  \n",
       "50%        12.200000  \n",
       "75%        20.800000  \n",
       "max       648.600000  "
      ]
     },
     "execution_count": 21,
     "metadata": {},
     "output_type": "execute_result"
    }
   ],
   "source": [
    "print('Total number of rows: {0}\\n\\n'.format(len(training_df.index)))\n",
    "training_df.describe(include='all')"
   ]
  },
  {
   "cell_type": "code",
   "execution_count": 22,
   "metadata": {},
   "outputs": [
    {
     "name": "stdout",
     "output_type": "stream",
     "text": [
      "Max fare: 159.25\n",
      "Mean distance: 8.289462674323214\n",
      "Number of unique companies: 31\n",
      "Most frequent payment type: Credit Card\n",
      "Number of missing values: 0\n"
     ]
    }
   ],
   "source": [
    "#What is the max fare?\n",
    "max_fare = training_df['FARE'].max()\n",
    "print('Max fare: {0}'.format(max_fare))\n",
    "\n",
    "mean_distance = training_df['TRIP_MILES'].mean()\n",
    "print('Mean distance: {0}'.format(mean_distance))\n",
    "\n",
    "num_unique_companies = training_df['COMPANY'].nunique()\n",
    "print('Number of unique companies: {0}'.format(num_unique_companies))\n",
    "\n",
    "most_freq_payment_type = training_df['PAYMENT_TYPE'].value_counts().idxmax()\n",
    "print('Most frequent payment type: {0}'.format(most_freq_payment_type))\n",
    "\n",
    "missing_values = training_df.isnull().sum().sum()\n",
    "print('Number of missing values: {0}'.format(missing_values))\n"
   ]
  },
  {
   "cell_type": "code",
   "execution_count": 23,
   "metadata": {},
   "outputs": [
    {
     "data": {
      "text/html": [
       "<div>\n",
       "<style scoped>\n",
       "    .dataframe tbody tr th:only-of-type {\n",
       "        vertical-align: middle;\n",
       "    }\n",
       "\n",
       "    .dataframe tbody tr th {\n",
       "        vertical-align: top;\n",
       "    }\n",
       "\n",
       "    .dataframe thead th {\n",
       "        text-align: right;\n",
       "    }\n",
       "</style>\n",
       "<table border=\"1\" class=\"dataframe\">\n",
       "  <thead>\n",
       "    <tr style=\"text-align: right;\">\n",
       "      <th></th>\n",
       "      <th>TRIP_MILES</th>\n",
       "      <th>TRIP_SECONDS</th>\n",
       "      <th>FARE</th>\n",
       "      <th>TIP_RATE</th>\n",
       "    </tr>\n",
       "  </thead>\n",
       "  <tbody>\n",
       "    <tr>\n",
       "      <th>TRIP_MILES</th>\n",
       "      <td>1.000000</td>\n",
       "      <td>0.800855</td>\n",
       "      <td>0.975344</td>\n",
       "      <td>-0.049594</td>\n",
       "    </tr>\n",
       "    <tr>\n",
       "      <th>TRIP_SECONDS</th>\n",
       "      <td>0.800855</td>\n",
       "      <td>1.000000</td>\n",
       "      <td>0.830292</td>\n",
       "      <td>-0.084294</td>\n",
       "    </tr>\n",
       "    <tr>\n",
       "      <th>FARE</th>\n",
       "      <td>0.975344</td>\n",
       "      <td>0.830292</td>\n",
       "      <td>1.000000</td>\n",
       "      <td>-0.070979</td>\n",
       "    </tr>\n",
       "    <tr>\n",
       "      <th>TIP_RATE</th>\n",
       "      <td>-0.049594</td>\n",
       "      <td>-0.084294</td>\n",
       "      <td>-0.070979</td>\n",
       "      <td>1.000000</td>\n",
       "    </tr>\n",
       "  </tbody>\n",
       "</table>\n",
       "</div>"
      ],
      "text/plain": [
       "              TRIP_MILES  TRIP_SECONDS      FARE  TIP_RATE\n",
       "TRIP_MILES      1.000000      0.800855  0.975344 -0.049594\n",
       "TRIP_SECONDS    0.800855      1.000000  0.830292 -0.084294\n",
       "FARE            0.975344      0.830292  1.000000 -0.070979\n",
       "TIP_RATE       -0.049594     -0.084294 -0.070979  1.000000"
      ]
     },
     "execution_count": 23,
     "metadata": {},
     "output_type": "execute_result"
    }
   ],
   "source": [
    "training_df.corr(numeric_only = True)"
   ]
  },
  {
   "cell_type": "code",
   "execution_count": 24,
   "metadata": {},
   "outputs": [
    {
     "data": {
      "text/plain": [
       "<seaborn.axisgrid.PairGrid at 0x7f1b53fa0410>"
      ]
     },
     "execution_count": 24,
     "metadata": {},
     "output_type": "execute_result"
    },
    {
     "data": {
      "image/png": "[encoded data removed]",
      "text/plain": [
       "<Figure size 750x750 with 12 Axes>"
      ]
     },
     "metadata": {},
     "output_type": "display_data"
    }
   ],
   "source": [
    "sns.pairplot(training_df, x_vars=['FARE', 'TRIP_MILES', 'TIP_RATE'], y_vars=['FARE', 'TRIP_MILES', 'TIP_RATE'])"
   ]
  },
  {
   "cell_type": "code",
   "execution_count": 25,
   "metadata": {},
   "outputs": [
    {
     "name": "stdout",
     "output_type": "stream",
     "text": [
      "SUCCESS: defining plotting functions complete.\n"
     ]
    }
   ],
   "source": [
    "def make_plots(df, feature_names, label_name, model_output, sample_size=200):\n",
    "\n",
    "  random_sample = df.sample(n=sample_size).copy()\n",
    "  random_sample.reset_index()\n",
    "  weights, bias, epochs, rmse = model_output\n",
    "\n",
    "  is_2d_plot = len(feature_names) == 1\n",
    "  model_plot_type = \"scatter\" if is_2d_plot else \"surface\"\n",
    "  fig = make_subplots(rows=1, cols=2,\n",
    "                      subplot_titles=(\"Loss Curve\", \"Model Plot\"),\n",
    "                      specs=[[{\"type\": \"scatter\"}, {\"type\": model_plot_type}]])\n",
    "\n",
    "  plot_data(random_sample, feature_names, label_name, fig)\n",
    "  plot_model(random_sample, feature_names, weights, bias, fig)\n",
    "  plot_loss_curve(epochs, rmse, fig)\n",
    "\n",
    "  fig.show()\n",
    "  return\n",
    "\n",
    "def plot_loss_curve(epochs, rmse, fig):\n",
    "  curve = px.line(x=epochs, y=rmse)\n",
    "  curve.update_traces(line_color='#ff0000', line_width=3)\n",
    "\n",
    "  fig.append_trace(curve.data[0], row=1, col=1)\n",
    "  fig.update_xaxes(title_text=\"Epoch\", row=1, col=1)\n",
    "  fig.update_yaxes(title_text=\"Root Mean Squared Error\", row=1, col=1, range=[rmse.min()*0.8, rmse.max()])\n",
    "\n",
    "  return\n",
    "\n",
    "def plot_data(df, features, label, fig):\n",
    "  if len(features) == 1:\n",
    "    scatter = px.scatter(df, x=features[0], y=label)\n",
    "  else:\n",
    "    scatter = px.scatter_3d(df, x=features[0], y=features[1], z=label)\n",
    "\n",
    "  fig.append_trace(scatter.data[0], row=1, col=2)\n",
    "  if len(features) == 1:\n",
    "    fig.update_xaxes(title_text=features[0], row=1, col=2)\n",
    "    fig.update_yaxes(title_text=label, row=1, col=2)\n",
    "  else:\n",
    "    fig.update_layout(scene1=dict(xaxis_title=features[0], yaxis_title=features[1], zaxis_title=label))\n",
    "\n",
    "  return\n",
    "\n",
    "def plot_model(df, features, weights, bias, fig):\n",
    "  df['FARE_PREDICTED'] = bias[0]\n",
    "\n",
    "  for index, feature in enumerate(features):\n",
    "    df['FARE_PREDICTED'] = df['FARE_PREDICTED'] + weights[index][0] * df[feature]\n",
    "\n",
    "  if len(features) == 1:\n",
    "    model = px.line(df, x=features[0], y='FARE_PREDICTED')\n",
    "    model.update_traces(line_color='#ff0000', line_width=3)\n",
    "  else:\n",
    "    z_name, y_name = \"FARE_PREDICTED\", features[1]\n",
    "    z = [df[z_name].min(), (df[z_name].max() - df[z_name].min()) / 2, df[z_name].max()]\n",
    "    y = [df[y_name].min(), (df[y_name].max() - df[y_name].min()) / 2, df[y_name].max()]\n",
    "    x = []\n",
    "    for i in range(len(y)):\n",
    "      x.append((z[i] - weights[1][0] * y[i] - bias[0]) / weights[0][0])\n",
    "\n",
    "    plane=pd.DataFrame({'x':x, 'y':y, 'z':[z] * 3})\n",
    "\n",
    "    light_yellow = [[0, '#89CFF0'], [1, '#FFDB58']]\n",
    "    model = go.Figure(data=go.Surface(x=plane['x'], y=plane['y'], z=plane['z'],\n",
    "                                      colorscale=light_yellow))\n",
    "\n",
    "  fig.add_trace(model.data[0], row=1, col=2)\n",
    "\n",
    "  return\n",
    "\n",
    "def model_info(feature_names, label_name, model_output):\n",
    "  weights = model_output[0]\n",
    "  bias = model_output[1]\n",
    "\n",
    "  nl = \"\\n\"\n",
    "  header = \"-\" * 80\n",
    "  banner = header + nl + \"|\" + \"MODEL INFO\".center(78) + \"|\" + nl + header\n",
    "\n",
    "  info = \"\"\n",
    "  equation = label_name + \" = \"\n",
    "\n",
    "  for index, feature in enumerate(feature_names):\n",
    "    info = info + \"Weight for feature[{}]: {:.3f}\\n\".format(feature, weights[index][0])\n",
    "    equation = equation + \"{:.3f} * {} + \".format(weights[index][0], feature)\n",
    "\n",
    "  info = info + \"Bias: {:.3f}\\n\".format(bias[0])\n",
    "  equation = equation + \"{:.3f}\\n\".format(bias[0])\n",
    "\n",
    "  return banner + nl + info + nl + equation\n",
    "\n",
    "print(\"SUCCESS: defining plotting functions complete.\")"
   ]
  },
  {
   "cell_type": "code",
   "execution_count": 26,
   "metadata": {},
   "outputs": [
    {
     "name": "stdout",
     "output_type": "stream",
     "text": [
      "SUCCESS: defining linear regression functions complete.\n"
     ]
    }
   ],
   "source": [
    "def build_model(my_learning_rate, num_features):\n",
    "    \"\"\"Crating and compiling a simple linear regression model\"\"\"\n",
    "    inputs = keras.Input(shape=(num_features,))\n",
    "    outputs = keras.layers.Dense(units=1)(inputs)\n",
    "    model = keras.Model(inputs=inputs, outputs=outputs)\n",
    "    \n",
    "    #compile the model\n",
    "    model.compile(optimizer=keras.optimizers.RMSprop(learning_rate=my_learning_rate),\n",
    "                loss=\"mean_squared_error\",\n",
    "                metrics=[keras.metrics.RootMeanSquaredError()])\n",
    "    return model\n",
    "\n",
    "def train_model(model, df, feature_names, label_name, epochs, batch_size):\n",
    "    \"\"\"Training the model\"\"\"\n",
    "    history = model.fit(x=feature_names, y=label_name, batch_size=batch_size, epochs=epochs)\n",
    "    \n",
    "    trained_weight = model.get_weights()[0]\n",
    "    trained_bias = model.get_weights()[1]\n",
    "    \n",
    "    epochs = history.epoch\n",
    "    hist = pd.DataFrame(history.history)\n",
    "    rmse = hist[\"root_mean_squared_error\"]\n",
    "    \n",
    "    return trained_weight, trained_bias, epochs, rmse\n",
    "\n",
    "def run_experiment(df,feature_names,label_names, learning_rate, epochs, batch_size):\n",
    "    print('INFO: Starting training experiment with features:{} and label:{}\\n'.format(feature_names, label_names))\n",
    "    \n",
    "    num_features = len(feature_names)\n",
    "    features = df.loc[:,feature_names].values\n",
    "    print(features)\n",
    "    label = df[label_names].values\n",
    "    print(label)\n",
    "    model = build_model(learning_rate, num_features)\n",
    "    model_output = train_model(model, df, features, label, epochs, batch_size)\n",
    "    \n",
    "    print('\\nSUCCESS: Training experiment completed.\\n')\n",
    "    print('{}'.format(model_info(feature_names, label_names, model_output)))\n",
    "    make_plots(df, feature_names, label_names, model_output)\n",
    "\n",
    "    return model\n",
    "\n",
    "print(\"SUCCESS: defining linear regression functions complete.\")\n",
    "    "
   ]
  },
  {
   "cell_type": "code",
   "execution_count": 27,
   "metadata": {},
   "outputs": [
    {
     "name": "stdout",
     "output_type": "stream",
     "text": [
      "INFO: Starting training experiment with features:['TRIP_MILES'] and label:FARE\n",
      "\n",
      "Epoch 1/20\n",
      "\u001b[1m634/634\u001b[0m \u001b[32m━━━━━━━━━━━━━━━━━━━━\u001b[0m\u001b[37m\u001b[0m \u001b[1m1s\u001b[0m 737us/step - loss: 542.1606 - root_mean_squared_error: 23.2645\n",
      "Epoch 2/20\n",
      "\u001b[1m634/634\u001b[0m \u001b[32m━━━━━━━━━━━━━━━━━━━━\u001b[0m\u001b[37m\u001b[0m \u001b[1m0s\u001b[0m 728us/step - loss: 267.4904 - root_mean_squared_error: 16.3201\n",
      "Epoch 3/20\n",
      "\u001b[1m634/634\u001b[0m \u001b[32m━━━━━━━━━━━━━━━━━━━━\u001b[0m\u001b[37m\u001b[0m \u001b[1m0s\u001b[0m 719us/step - loss: 88.8971 - root_mean_squared_error: 9.3910\n",
      "Epoch 4/20\n",
      "\u001b[1m634/634\u001b[0m \u001b[32m━━━━━━━━━━━━━━━━━━━━\u001b[0m\u001b[37m\u001b[0m \u001b[1m0s\u001b[0m 730us/step - loss: 21.7119 - root_mean_squared_error: 4.6543\n",
      "Epoch 5/20\n",
      "\u001b[1m634/634\u001b[0m \u001b[32m━━━━━━━━━━━━━━━━━━━━\u001b[0m\u001b[37m\u001b[0m \u001b[1m0s\u001b[0m 739us/step - loss: 15.2627 - root_mean_squared_error: 3.9018\n",
      "Epoch 6/20\n",
      "\u001b[1m634/634\u001b[0m \u001b[32m━━━━━━━━━━━━━━━━━━━━\u001b[0m\u001b[37m\u001b[0m \u001b[1m0s\u001b[0m 730us/step - loss: 15.4563 - root_mean_squared_error: 3.9284\n",
      "Epoch 7/20\n",
      "\u001b[1m634/634\u001b[0m \u001b[32m━━━━━━━━━━━━━━━━━━━━\u001b[0m\u001b[37m\u001b[0m \u001b[1m0s\u001b[0m 751us/step - loss: 15.6365 - root_mean_squared_error: 3.9490\n",
      "Epoch 8/20\n",
      "\u001b[1m634/634\u001b[0m \u001b[32m━━━━━━━━━━━━━━━━━━━━\u001b[0m\u001b[37m\u001b[0m \u001b[1m1s\u001b[0m 842us/step - loss: 13.6950 - root_mean_squared_error: 3.6905\n",
      "Epoch 9/20\n",
      "\u001b[1m634/634\u001b[0m \u001b[32m━━━━━━━━━━━━━━━━━━━━\u001b[0m\u001b[37m\u001b[0m \u001b[1m1s\u001b[0m 889us/step - loss: 13.2796 - root_mean_squared_error: 3.6387\n",
      "Epoch 10/20\n",
      "\u001b[1m634/634\u001b[0m \u001b[32m━━━━━━━━━━━━━━━━━━━━\u001b[0m\u001b[37m\u001b[0m \u001b[1m0s\u001b[0m 752us/step - loss: 14.3600 - root_mean_squared_error: 3.7824\n",
      "Epoch 11/20\n",
      "\u001b[1m634/634\u001b[0m \u001b[32m━━━━━━━━━━━━━━━━━━━━\u001b[0m\u001b[37m\u001b[0m \u001b[1m0s\u001b[0m 734us/step - loss: 13.1852 - root_mean_squared_error: 3.6224\n",
      "Epoch 12/20\n",
      "\u001b[1m634/634\u001b[0m \u001b[32m━━━━━━━━━━━━━━━━━━━━\u001b[0m\u001b[37m\u001b[0m \u001b[1m1s\u001b[0m 842us/step - loss: 13.8053 - root_mean_squared_error: 3.7040\n",
      "Epoch 13/20\n",
      "\u001b[1m634/634\u001b[0m \u001b[32m━━━━━━━━━━━━━━━━━━━━\u001b[0m\u001b[37m\u001b[0m \u001b[1m1s\u001b[0m 829us/step - loss: 14.8114 - root_mean_squared_error: 3.8430\n",
      "Epoch 14/20\n",
      "\u001b[1m634/634\u001b[0m \u001b[32m━━━━━━━━━━━━━━━━━━━━\u001b[0m\u001b[37m\u001b[0m \u001b[1m1s\u001b[0m 885us/step - loss: 12.7632 - root_mean_squared_error: 3.5573\n",
      "Epoch 15/20\n",
      "\u001b[1m634/634\u001b[0m \u001b[32m━━━━━━━━━━━━━━━━━━━━\u001b[0m\u001b[37m\u001b[0m \u001b[1m1s\u001b[0m 814us/step - loss: 14.6298 - root_mean_squared_error: 3.7945\n",
      "Epoch 16/20\n",
      "\u001b[1m634/634\u001b[0m \u001b[32m━━━━━━━━━━━━━━━━━━━━\u001b[0m\u001b[37m\u001b[0m \u001b[1m1s\u001b[0m 912us/step - loss: 15.4692 - root_mean_squared_error: 3.9270\n",
      "Epoch 17/20\n",
      "\u001b[1m634/634\u001b[0m \u001b[32m━━━━━━━━━━━━━━━━━━━━\u001b[0m\u001b[37m\u001b[0m \u001b[1m1s\u001b[0m 808us/step - loss: 12.8653 - root_mean_squared_error: 3.5793\n",
      "Epoch 18/20\n",
      "\u001b[1m634/634\u001b[0m \u001b[32m━━━━━━━━━━━━━━━━━━━━\u001b[0m\u001b[37m\u001b[0m \u001b[1m0s\u001b[0m 741us/step - loss: 15.6275 - root_mean_squared_error: 3.9258\n",
      "Epoch 19/20\n",
      "\u001b[1m634/634\u001b[0m \u001b[32m━━━━━━━━━━━━━━━━━━━━\u001b[0m\u001b[37m\u001b[0m \u001b[1m0s\u001b[0m 751us/step - loss: 14.1284 - root_mean_squared_error: 3.7512\n",
      "Epoch 20/20\n",
      "\u001b[1m634/634\u001b[0m \u001b[32m━━━━━━━━━━━━━━━━━━━━\u001b[0m\u001b[37m\u001b[0m \u001b[1m1s\u001b[0m 772us/step - loss: 15.0117 - root_mean_squared_error: 3.8467\n",
      "\n",
      "SUCCESS: Training experiment completed.\n",
      "\n",
      "--------------------------------------------------------------------------------\n",
      "|                                  MODEL INFO                                  |\n",
      "--------------------------------------------------------------------------------\n",
      "Weight for feature[TRIP_MILES]: 2.276\n",
      "Bias: 4.975\n",
      "\n",
      "FARE = 2.276 * TRIP_MILES + 4.975\n",
      "\n"
     ]
    },
    {
     "data": {
      "application/vnd.plotly.v1+json": {
       "config": {
        "plotlyServerURL": "https://plot.ly"
       },
       "data": [
        {
         "hovertemplate": "TRIP_MILES=%{x}<br>FARE=%{y}<extra></extra>",
         "legendgroup": "",
         "marker": {
          "color": "#636efa",
          "symbol": "circle"
         },
         "mode": "markers",
         "name": "",
         "orientation": "v",
         "showlegend": false,
         "type": "scatter",
         "x": [
          18.5,
          1.3,
          1.83,
          0.78,
          13.4,
          29.07,
          13.9,
          2.25,
          4.03,
          17.8,
          10.4,
          12.18,
          2.31,
          20.64,
          16.9,
          0.9,
          2,
          2.5,
          14.8,
          1.58,
          17.13,
          17.81,
          4.55,
          16.6,
          2.01,
          16.5,
          1.87,
          12.27,
          3.46,
          18.1,
          7.98,
          7.9,
          2.16,
          5.95,
          17.62,
          13.5,
          16.79,
          1.1,
          18.65,
          17.51,
          18.3,
          1.13,
          1.45,
          1.07,
          4.8,
          4.52,
          4,
          1.39,
          16.64,
          1.91,
          1.7,
          0.7,
          3.05,
          11.17,
          2.43,
          7.5,
          7.82,
          17.81,
          1.35,
          16.7,
          18.47,
          1.65,
          1.2,
          18.27,
          17.16,
          1.8,
          4.6,
          10.4,
          17.26,
          12.36,
          0.55,
          2.2,
          18.08,
          2.75,
          1.35,
          4.29,
          11.4,
          2.6,
          1.71,
          1,
          0.9,
          12.2,
          18.23,
          12.04,
          1.1,
          0.8,
          6.9,
          11.39,
          1.5,
          19.67,
          0.8,
          1.72,
          7.38,
          1.7,
          5.61,
          14.98,
          1.68,
          11.18,
          17.4,
          16.9,
          2,
          25.91,
          8.77,
          20.74,
          18.22,
          2.82,
          11.42,
          7.4,
          19.34,
          4.4,
          12.9,
          14.87,
          14,
          8.55,
          2.51,
          7.19,
          1.01,
          13.28,
          5.23,
          17.83,
          18.19,
          18.04,
          2.1,
          12.48,
          14,
          1.36,
          5.6,
          5,
          17.9,
          2,
          6.9,
          1.61,
          11.52,
          4.86,
          3.4,
          0.7,
          7.71,
          5.45,
          34.2,
          18.1,
          0.9,
          6.57,
          1.55,
          0.73,
          2.63,
          1.47,
          3.2,
          14.37,
          17.63,
          11.3,
          7.22,
          18.12,
          23.5,
          17.8,
          16.97,
          8.55,
          13.33,
          9.16,
          1.5,
          1.87,
          11.13,
          8.92,
          12.88,
          2.1,
          21.19,
          15.82,
          13.54,
          3.31,
          1.75,
          17.59,
          13.2,
          12.28,
          12.54,
          7.64,
          10.1,
          1.59,
          17.32,
          11.8,
          1.9,
          16.73,
          12.94,
          20.2,
          1.39,
          12.01,
          1.1,
          11.7,
          16.05,
          10.16,
          7.2,
          6.87,
          1.8,
          10.56,
          12.7,
          15.37,
          17.6,
          7.3,
          3.7,
          19.5,
          0.7,
          1.86
         ],
         "xaxis": "x2",
         "y": [
          44.75,
          8.75,
          8.5,
          5.5,
          37.25,
          69.5,
          36.5,
          10.21,
          13.75,
          44.25,
          26.75,
          34,
          9.91,
          50.75,
          44.25,
          5.75,
          9.25,
          12.36,
          39.25,
          9,
          43,
          45.25,
          14.75,
          41.25,
          11.29,
          40.25,
          8.25,
          32,
          12.25,
          46.5,
          21.25,
          22,
          10.9,
          18.75,
          43.75,
          34.25,
          59.91,
          6.25,
          47.25,
          43,
          45,
          6.25,
          7.5,
          6.5,
          71,
          15.94,
          25.25,
          8,
          43.5,
          9,
          8,
          5.25,
          13.31,
          32.26,
          10.25,
          23.25,
          22.75,
          44,
          7,
          45.75,
          46.25,
          8.25,
          7.25,
          45.25,
          42,
          10.25,
          16,
          29.25,
          43.25,
          34.5,
          4.75,
          10,
          43.75,
          10.5,
          6.5,
          13.75,
          31,
          10.5,
          11,
          7.25,
          5.5,
          31,
          45.25,
          33.75,
          6.5,
          5.5,
          20.02,
          29.5,
          7,
          49.5,
          5.25,
          8.25,
          23.75,
          9.25,
          17.5,
          37.25,
          9,
          29.5,
          44,
          41.75,
          9,
          70.64,
          23.25,
          50.5,
          47.25,
          11.75,
          30,
          21.5,
          56.33,
          14.24,
          32.75,
          44.75,
          35.25,
          9.96,
          9.75,
          27.5,
          5.75,
          37.75,
          16,
          45,
          45,
          46.25,
          9.25,
          33.5,
          38,
          7.5,
          26,
          15.16,
          44.5,
          8.5,
          21,
          7.75,
          32.75,
          15.31,
          11,
          5.75,
          23.5,
          15.85,
          81.5,
          46.5,
          5.75,
          27.5,
          7,
          5,
          11.98,
          8.25,
          11.25,
          36.5,
          44.25,
          30.25,
          22.5,
          45,
          57.5,
          47,
          42.75,
          24.25,
          34.25,
          24.5,
          8,
          9.25,
          29.25,
          23.25,
          32.75,
          10,
          52.25,
          41.25,
          36.5,
          12,
          8.25,
          45.5,
          32.25,
          32.5,
          33.25,
          27.5,
          26,
          7.75,
          43.25,
          34,
          10,
          50.37,
          34.93,
          50,
          9,
          30.75,
          6.25,
          33.75,
          40.75,
          30,
          21.75,
          18.75,
          8.5,
          27.25,
          35,
          41.5,
          44.25,
          22.25,
          12.92,
          50.25,
          5.5,
          8.75
         ],
         "yaxis": "y2"
        },
        {
         "hovertemplate": "TRIP_MILES=%{x}<br>FARE_PREDICTED=%{y}<extra></extra>",
         "legendgroup": "",
         "line": {
          "color": "#ff0000",
          "dash": "solid",
          "width": 3
         },
         "marker": {
          "symbol": "circle"
         },
         "mode": "lines",
         "name": "",
         "orientation": "v",
         "showlegend": false,
         "type": "scatter",
         "x": [
          18.5,
          1.3,
          1.83,
          0.78,
          13.4,
          29.07,
          13.9,
          2.25,
          4.03,
          17.8,
          10.4,
          12.18,
          2.31,
          20.64,
          16.9,
          0.9,
          2,
          2.5,
          14.8,
          1.58,
          17.13,
          17.81,
          4.55,
          16.6,
          2.01,
          16.5,
          1.87,
          12.27,
          3.46,
          18.1,
          7.98,
          7.9,
          2.16,
          5.95,
          17.62,
          13.5,
          16.79,
          1.1,
          18.65,
          17.51,
          18.3,
          1.13,
          1.45,
          1.07,
          4.8,
          4.52,
          4,
          1.39,
          16.64,
          1.91,
          1.7,
          0.7,
          3.05,
          11.17,
          2.43,
          7.5,
          7.82,
          17.81,
          1.35,
          16.7,
          18.47,
          1.65,
          1.2,
          18.27,
          17.16,
          1.8,
          4.6,
          10.4,
          17.26,
          12.36,
          0.55,
          2.2,
          18.08,
          2.75,
          1.35,
          4.29,
          11.4,
          2.6,
          1.71,
          1,
          0.9,
          12.2,
          18.23,
          12.04,
          1.1,
          0.8,
          6.9,
          11.39,
          1.5,
          19.67,
          0.8,
          1.72,
          7.38,
          1.7,
          5.61,
          14.98,
          1.68,
          11.18,
          17.4,
          16.9,
          2,
          25.91,
          8.77,
          20.74,
          18.22,
          2.82,
          11.42,
          7.4,
          19.34,
          4.4,
          12.9,
          14.87,
          14,
          8.55,
          2.51,
          7.19,
          1.01,
          13.28,
          5.23,
          17.83,
          18.19,
          18.04,
          2.1,
          12.48,
          14,
          1.36,
          5.6,
          5,
          17.9,
          2,
          6.9,
          1.61,
          11.52,
          4.86,
          3.4,
          0.7,
          7.71,
          5.45,
          34.2,
          18.1,
          0.9,
          6.57,
          1.55,
          0.73,
          2.63,
          1.47,
          3.2,
          14.37,
          17.63,
          11.3,
          7.22,
          18.12,
          23.5,
          17.8,
          16.97,
          8.55,
          13.33,
          9.16,
          1.5,
          1.87,
          11.13,
          8.92,
          12.88,
          2.1,
          21.19,
          15.82,
          13.54,
          3.31,
          1.75,
          17.59,
          13.2,
          12.28,
          12.54,
          7.64,
          10.1,
          1.59,
          17.32,
          11.8,
          1.9,
          16.73,
          12.94,
          20.2,
          1.39,
          12.01,
          1.1,
          11.7,
          16.05,
          10.16,
          7.2,
          6.87,
          1.8,
          10.56,
          12.7,
          15.37,
          17.6,
          7.3,
          3.7,
          19.5,
          0.7,
          1.86
         ],
         "xaxis": "x2",
         "y": [
          47.08689510822296,
          7.93404791355133,
          9.140501925945282,
          6.750357184410095,
          35.477620649337766,
          71.14768550634385,
          36.61578481197357,
          10.096559822559357,
          14.148424241542816,
          45.49346528053284,
          28.64863567352295,
          32.70050009250641,
          10.233139522075653,
          51.9582377243042,
          43.44476978778839,
          7.023516583442689,
          9.527477741241455,
          10.665641903877258,
          38.66448030471802,
          8.57141984462738,
          43.96832530260086,
          45.51622856378555,
          15.332114970684051,
          42.76187129020691,
          9.55024102449417,
          42.53423845767975,
          9.231555058956147,
          32.90536964178085,
          12.850917096138001,
          46.17636377811432,
          23.139921126365664,
          22.957814860343934,
          9.891690273284912,
          18.5189746260643,
          45.08372618198395,
          35.70525348186493,
          43.19437367200851,
          7.4787822484970095,
          47.4283443570137,
          44.83333006620408,
          46.63162944316864,
          7.547072098255157,
          8.275497162342072,
          7.410492398738861,
          15.901197052001953,
          15.263825120925903,
          14.080134391784668,
          8.138917462825775,
          42.85292442321777,
          9.32260819196701,
          8.844579243659973,
          6.568250918388367,
          11.917622482776641,
          30.401408483982085,
          10.506298921108247,
          22.04728353023529,
          22.775708594322204,
          45.51622856378555,
          8.04786432981491,
          42.98950412273407,
          47.01860525846481,
          8.730762827396394,
          7.70641508102417,
          46.56333959341049,
          44.03661515235901,
          9.072212076187135,
          15.445931386947631,
          28.64863567352295,
          44.264247984886175,
          33.1102391910553,
          6.226801669597625,
          9.982743406295777,
          46.130837211608885,
          11.23472398519516,
          8.04786432981491,
          14.740269606113435,
          30.924963998794556,
          10.893274736404418,
          8.86734252691269,
          7.251149415969849,
          7.023516583442689,
          32.74602665901184,
          46.47228646039963,
          32.38181412696838,
          7.4787822484970095,
          6.795883750915527,
          20.681486535072327,
          30.90220071554184,
          8.389313578605652,
          49.75019924879074,
          6.795883750915527,
          8.890105810165405,
          21.774124131202697,
          8.844579243659973,
          17.745022995471956,
          39.07421940326691,
          8.799052677154542,
          30.424171767234803,
          44.58293395042419,
          43.44476978778839,
          9.527477741241455,
          63.95448799848557,
          24.93822050333023,
          52.185870556831354,
          46.44952317714691,
          11.394066967964172,
          30.970490565299986,
          21.81965069770813,
          48.99901090145111,
          14.990665721893311,
          34.33945648670196,
          38.82382328748703,
          36.84341764450073,
          24.43742827177048,
          10.688405187129973,
          21.341621749401092,
          7.273912699222565,
          35.20446125030517,
          16.880018231868746,
          45.56175513029098,
          46.38123332738876,
          46.03978407859802,
          9.755110573768615,
          33.38339859008789,
          36.84341764450073,
          8.070627613067627,
          17.722259712219238,
          16.356462717056274,
          45.721098113059995,
          9.527477741241455,
          20.681486535072327,
          8.639709694385528,
          31.198123397827146,
          16.03777675151825,
          12.714337396621705,
          6.568250918388367,
          22.52531247854233,
          17.380810463428496,
          82.82524981498719,
          46.17636377811432,
          7.023516583442689,
          19.930298187732696,
          8.503129994869232,
          6.636540768146515,
          10.961564586162567,
          8.321023728847504,
          12.259071731567383,
          37.68565912485123,
          45.10648946523666,
          30.697331166267396,
          21.40991159915924,
          46.22189034461975,
          58.468536734580994,
          45.49346528053284,
          43.6041127705574,
          24.43742827177048,
          35.31827766656876,
          25.825988550186157,
          8.389313578605652,
          9.231555058956147,
          30.310355350971225,
          25.27966975212097,
          34.29392992019653,
          9.755110573768615,
          53.21021830320358,
          40.986335196495055,
          35.79630661487579,
          12.50946784734726,
          8.958395659923553,
          45.015436332225796,
          35.022354984283446,
          32.928132925033566,
          33.51997828960418,
          22.365969495773314,
          27.965737175941467,
          8.594183127880097,
          44.400827684402465,
          31.8354953289032,
          9.299844908714295,
          43.05779397249222,
          34.43050961971283,
          50.95665326118469,
          8.138917462825775,
          32.313524277210234,
          7.4787822484970095,
          31.607862496376036,
          41.50989071130753,
          28.102316875457763,
          21.36438503265381,
          20.61319668531418,
          9.072212076187135,
          29.012848205566407,
          33.88419082164764,
          39.961987450122834,
          45.03819961547852,
          21.592017865180967,
          13.397235894203186,
          49.36322343349457,
          6.568250918388367,
          9.20879177570343
         ],
         "yaxis": "y2"
        },
        {
         "hovertemplate": "x=%{x}<br>y=%{y}<extra></extra>",
         "legendgroup": "",
         "line": {
          "color": "#ff0000",
          "dash": "solid",
          "width": 3
         },
         "marker": {
          "symbol": "circle"
         },
         "mode": "lines",
         "name": "",
         "orientation": "v",
         "showlegend": false,
         "type": "scatter",
         "x": [
          0,
          1,
          2,
          3,
          4,
          5,
          6,
          7,
          8,
          9,
          10,
          11,
          12,
          13,
          14,
          15,
          16,
          17,
          18,
          19
         ],
         "xaxis": "x",
         "y": [
          21.622079849243164,
          14.603622436523438,
          8.0344820022583,
          4.328127861022949,
          4.036623001098633,
          3.9217917919158936,
          3.8431665897369385,
          3.7928574085235596,
          3.7666678428649902,
          3.754824638366699,
          3.7496678829193115,
          3.747227907180786,
          3.746635913848877,
          3.746446371078491,
          3.745809555053711,
          3.7457664012908936,
          3.74587082862854,
          3.746013641357422,
          3.7458748817443848,
          3.745657205581665
         ],
         "yaxis": "y"
        }
       ],
       "layout": {
        "annotations": [
         {
          "font": {
           "size": 16
          },
          "showarrow": false,
          "text": "Loss Curve",
          "x": 0.225,
          "xanchor": "center",
          "xref": "paper",
          "y": 1,
          "yanchor": "bottom",
          "yref": "paper"
         },
         {
          "font": {
           "size": 16
          },
          "showarrow": false,
          "text": "Model Plot",
          "x": 0.775,
          "xanchor": "center",
          "xref": "paper",
          "y": 1,
          "yanchor": "bottom",
          "yref": "paper"
         }
        ],
        "template": {
         "data": {
          "bar": [
           {
            "error_x": {
             "color": "#2a3f5f"
            },
            "error_y": {
             "color": "#2a3f5f"
            },
            "marker": {
             "line": {
              "color": "#E5ECF6",
              "width": 0.5
             },
             "pattern": {
              "fillmode": "overlay",
              "size": 10,
              "solidity": 0.2
             }
            },
            "type": "bar"
           }
          ],
          "barpolar": [
           {
            "marker": {
             "line": {
              "color": "#E5ECF6",
              "width": 0.5
             },
             "pattern": {
              "fillmode": "overlay",
              "size": 10,
              "solidity": 0.2
             }
            },
            "type": "barpolar"
           }
          ],
          "carpet": [
           {
            "aaxis": {
             "endlinecolor": "#2a3f5f",
             "gridcolor": "white",
             "linecolor": "white",
             "minorgridcolor": "white",
             "startlinecolor": "#2a3f5f"
            },
            "baxis": {
             "endlinecolor": "#2a3f5f",
             "gridcolor": "white",
             "linecolor": "white",
             "minorgridcolor": "white",
             "startlinecolor": "#2a3f5f"
            },
            "type": "carpet"
           }
          ],
          "choropleth": [
           {
            "colorbar": {
             "outlinewidth": 0,
             "ticks": ""
            },
            "type": "choropleth"
           }
          ],
          "contour": [
           {
            "colorbar": {
             "outlinewidth": 0,
             "ticks": ""
            },
            "colorscale": [
             [
              0,
              "#0d0887"
             ],
             [
              0.1111111111111111,
              "#46039f"
             ],
             [
              0.2222222222222222,
              "#7201a8"
             ],
             [
              0.3333333333333333,
              "#9c179e"
             ],
             [
              0.4444444444444444,
              "#bd3786"
             ],
             [
              0.5555555555555556,
              "#d8576b"
             ],
             [
              0.6666666666666666,
              "#ed7953"
             ],
             [
              0.7777777777777778,
              "#fb9f3a"
             ],
             [
              0.8888888888888888,
              "#fdca26"
             ],
             [
              1,
              "#f0f921"
             ]
            ],
            "type": "contour"
           }
          ],
          "contourcarpet": [
           {
            "colorbar": {
             "outlinewidth": 0,
             "ticks": ""
            },
            "type": "contourcarpet"
           }
          ],
          "heatmap": [
           {
            "colorbar": {
             "outlinewidth": 0,
             "ticks": ""
            },
            "colorscale": [
             [
              0,
              "#0d0887"
             ],
             [
              0.1111111111111111,
              "#46039f"
             ],
             [
              0.2222222222222222,
              "#7201a8"
             ],
             [
              0.3333333333333333,
              "#9c179e"
             ],
             [
              0.4444444444444444,
              "#bd3786"
             ],
             [
              0.5555555555555556,
              "#d8576b"
             ],
             [
              0.6666666666666666,
              "#ed7953"
             ],
             [
              0.7777777777777778,
              "#fb9f3a"
             ],
             [
              0.8888888888888888,
              "#fdca26"
             ],
             [
              1,
              "#f0f921"
             ]
            ],
            "type": "heatmap"
           }
          ],
          "heatmapgl": [
           {
            "colorbar": {
             "outlinewidth": 0,
             "ticks": ""
            },
            "colorscale": [
             [
              0,
              "#0d0887"
             ],
             [
              0.1111111111111111,
              "#46039f"
             ],
             [
              0.2222222222222222,
              "#7201a8"
             ],
             [
              0.3333333333333333,
              "#9c179e"
             ],
             [
              0.4444444444444444,
              "#bd3786"
             ],
             [
              0.5555555555555556,
              "#d8576b"
             ],
             [
              0.6666666666666666,
              "#ed7953"
             ],
             [
              0.7777777777777778,
              "#fb9f3a"
             ],
             [
              0.8888888888888888,
              "#fdca26"
             ],
             [
              1,
              "#f0f921"
             ]
            ],
            "type": "heatmapgl"
           }
          ],
          "histogram": [
           {
            "marker": {
             "pattern": {
              "fillmode": "overlay",
              "size": 10,
              "solidity": 0.2
             }
            },
            "type": "histogram"
           }
          ],
          "histogram2d": [
           {
            "colorbar": {
             "outlinewidth": 0,
             "ticks": ""
            },
            "colorscale": [
             [
              0,
              "#0d0887"
             ],
             [
              0.1111111111111111,
              "#46039f"
             ],
             [
              0.2222222222222222,
              "#7201a8"
             ],
             [
              0.3333333333333333,
              "#9c179e"
             ],
             [
              0.4444444444444444,
              "#bd3786"
             ],
             [
              0.5555555555555556,
              "#d8576b"
             ],
             [
              0.6666666666666666,
              "#ed7953"
             ],
             [
              0.7777777777777778,
              "#fb9f3a"
             ],
             [
              0.8888888888888888,
              "#fdca26"
             ],
             [
              1,
              "#f0f921"
             ]
            ],
            "type": "histogram2d"
           }
          ],
          "histogram2dcontour": [
           {
            "colorbar": {
             "outlinewidth": 0,
             "ticks": ""
            },
            "colorscale": [
             [
              0,
              "#0d0887"
             ],
             [
              0.1111111111111111,
              "#46039f"
             ],
             [
              0.2222222222222222,
              "#7201a8"
             ],
             [
              0.3333333333333333,
              "#9c179e"
             ],
             [
              0.4444444444444444,
              "#bd3786"
             ],
             [
              0.5555555555555556,
              "#d8576b"
             ],
             [
              0.6666666666666666,
              "#ed7953"
             ],
             [
              0.7777777777777778,
              "#fb9f3a"
             ],
             [
              0.8888888888888888,
              "#fdca26"
             ],
             [
              1,
              "#f0f921"
             ]
            ],
            "type": "histogram2dcontour"
           }
          ],
          "mesh3d": [
           {
            "colorbar": {
             "outlinewidth": 0,
             "ticks": ""
            },
            "type": "mesh3d"
           }
          ],
          "parcoords": [
           {
            "line": {
             "colorbar": {
              "outlinewidth": 0,
              "ticks": ""
             }
            },
            "type": "parcoords"
           }
          ],
          "pie": [
           {
            "automargin": true,
            "type": "pie"
           }
          ],
          "scatter": [
           {
            "fillpattern": {
             "fillmode": "overlay",
             "size": 10,
             "solidity": 0.2
            },
            "type": "scatter"
           }
          ],
          "scatter3d": [
           {
            "line": {
             "colorbar": {
              "outlinewidth": 0,
              "ticks": ""
             }
            },
            "marker": {
             "colorbar": {
              "outlinewidth": 0,
              "ticks": ""
             }
            },
            "type": "scatter3d"
           }
          ],
          "scattercarpet": [
           {
            "marker": {
             "colorbar": {
              "outlinewidth": 0,
              "ticks": ""
             }
            },
            "type": "scattercarpet"
           }
          ],
          "scattergeo": [
           {
            "marker": {
             "colorbar": {
              "outlinewidth": 0,
              "ticks": ""
             }
            },
            "type": "scattergeo"
           }
          ],
          "scattergl": [
           {
            "marker": {
             "colorbar": {
              "outlinewidth": 0,
              "ticks": ""
             }
            },
            "type": "scattergl"
           }
          ],
          "scattermapbox": [
           {
            "marker": {
             "colorbar": {
              "outlinewidth": 0,
              "ticks": ""
             }
            },
            "type": "scattermapbox"
           }
          ],
          "scatterpolar": [
           {
            "marker": {
             "colorbar": {
              "outlinewidth": 0,
              "ticks": ""
             }
            },
            "type": "scatterpolar"
           }
          ],
          "scatterpolargl": [
           {
            "marker": {
             "colorbar": {
              "outlinewidth": 0,
              "ticks": ""
             }
            },
            "type": "scatterpolargl"
           }
          ],
          "scatterternary": [
           {
            "marker": {
             "colorbar": {
              "outlinewidth": 0,
              "ticks": ""
             }
            },
            "type": "scatterternary"
           }
          ],
          "surface": [
           {
            "colorbar": {
             "outlinewidth": 0,
             "ticks": ""
            },
            "colorscale": [
             [
              0,
              "#0d0887"
             ],
             [
              0.1111111111111111,
              "#46039f"
             ],
             [
              0.2222222222222222,
              "#7201a8"
             ],
             [
              0.3333333333333333,
              "#9c179e"
             ],
             [
              0.4444444444444444,
              "#bd3786"
             ],
             [
              0.5555555555555556,
              "#d8576b"
             ],
             [
              0.6666666666666666,
              "#ed7953"
             ],
             [
              0.7777777777777778,
              "#fb9f3a"
             ],
             [
              0.8888888888888888,
              "#fdca26"
             ],
             [
              1,
              "#f0f921"
             ]
            ],
            "type": "surface"
           }
          ],
          "table": [
           {
            "cells": {
             "fill": {
              "color": "#EBF0F8"
             },
             "line": {
              "color": "white"
             }
            },
            "header": {
             "fill": {
              "color": "#C8D4E3"
             },
             "line": {
              "color": "white"
             }
            },
            "type": "table"
           }
          ]
         },
         "layout": {
          "annotationdefaults": {
           "arrowcolor": "#2a3f5f",
           "arrowhead": 0,
           "arrowwidth": 1
          },
          "autotypenumbers": "strict",
          "coloraxis": {
           "colorbar": {
            "outlinewidth": 0,
            "ticks": ""
           }
          },
          "colorscale": {
           "diverging": [
            [
             0,
             "#8e0152"
            ],
            [
             0.1,
             "#c51b7d"
            ],
            [
             0.2,
             "#de77ae"
            ],
            [
             0.3,
             "#f1b6da"
            ],
            [
             0.4,
             "#fde0ef"
            ],
            [
             0.5,
             "#f7f7f7"
            ],
            [
             0.6,
             "#e6f5d0"
            ],
            [
             0.7,
             "#b8e186"
            ],
            [
             0.8,
             "#7fbc41"
            ],
            [
             0.9,
             "#4d9221"
            ],
            [
             1,
             "#276419"
            ]
           ],
           "sequential": [
            [
             0,
             "#0d0887"
            ],
            [
             0.1111111111111111,
             "#46039f"
            ],
            [
             0.2222222222222222,
             "#7201a8"
            ],
            [
             0.3333333333333333,
             "#9c179e"
            ],
            [
             0.4444444444444444,
             "#bd3786"
            ],
            [
             0.5555555555555556,
             "#d8576b"
            ],
            [
             0.6666666666666666,
             "#ed7953"
            ],
            [
             0.7777777777777778,
             "#fb9f3a"
            ],
            [
             0.8888888888888888,
             "#fdca26"
            ],
            [
             1,
             "#f0f921"
            ]
           ],
           "sequentialminus": [
            [
             0,
             "#0d0887"
            ],
            [
             0.1111111111111111,
             "#46039f"
            ],
            [
             0.2222222222222222,
             "#7201a8"
            ],
            [
             0.3333333333333333,
             "#9c179e"
            ],
            [
             0.4444444444444444,
             "#bd3786"
            ],
            [
             0.5555555555555556,
             "#d8576b"
            ],
            [
             0.6666666666666666,
             "#ed7953"
            ],
            [
             0.7777777777777778,
             "#fb9f3a"
            ],
            [
             0.8888888888888888,
             "#fdca26"
            ],
            [
             1,
             "#f0f921"
            ]
           ]
          },
          "colorway": [
           "#636efa",
           "#EF553B",
           "#00cc96",
           "#ab63fa",
           "#FFA15A",
           "#19d3f3",
           "#FF6692",
           "#B6E880",
           "#FF97FF",
           "#FECB52"
          ],
          "font": {
           "color": "#2a3f5f"
          },
          "geo": {
           "bgcolor": "white",
           "lakecolor": "white",
           "landcolor": "#E5ECF6",
           "showlakes": true,
           "showland": true,
           "subunitcolor": "white"
          },
          "hoverlabel": {
           "align": "left"
          },
          "hovermode": "closest",
          "mapbox": {
           "style": "light"
          },
          "paper_bgcolor": "white",
          "plot_bgcolor": "#E5ECF6",
          "polar": {
           "angularaxis": {
            "gridcolor": "white",
            "linecolor": "white",
            "ticks": ""
           },
           "bgcolor": "#E5ECF6",
           "radialaxis": {
            "gridcolor": "white",
            "linecolor": "white",
            "ticks": ""
           }
          },
          "scene": {
           "xaxis": {
            "backgroundcolor": "#E5ECF6",
            "gridcolor": "white",
            "gridwidth": 2,
            "linecolor": "white",
            "showbackground": true,
            "ticks": "",
            "zerolinecolor": "white"
           },
           "yaxis": {
            "backgroundcolor": "#E5ECF6",
            "gridcolor": "white",
            "gridwidth": 2,
            "linecolor": "white",
            "showbackground": true,
            "ticks": "",
            "zerolinecolor": "white"
           },
           "zaxis": {
            "backgroundcolor": "#E5ECF6",
            "gridcolor": "white",
            "gridwidth": 2,
            "linecolor": "white",
            "showbackground": true,
            "ticks": "",
            "zerolinecolor": "white"
           }
          },
          "shapedefaults": {
           "line": {
            "color": "#2a3f5f"
           }
          },
          "ternary": {
           "aaxis": {
            "gridcolor": "white",
            "linecolor": "white",
            "ticks": ""
           },
           "baxis": {
            "gridcolor": "white",
            "linecolor": "white",
            "ticks": ""
           },
           "bgcolor": "#E5ECF6",
           "caxis": {
            "gridcolor": "white",
            "linecolor": "white",
            "ticks": ""
           }
          },
          "title": {
           "x": 0.05
          },
          "xaxis": {
           "automargin": true,
           "gridcolor": "white",
           "linecolor": "white",
           "ticks": "",
           "title": {
            "standoff": 15
           },
           "zerolinecolor": "white",
           "zerolinewidth": 2
          },
          "yaxis": {
           "automargin": true,
           "gridcolor": "white",
           "linecolor": "white",
           "ticks": "",
           "title": {
            "standoff": 15
           },
           "zerolinecolor": "white",
           "zerolinewidth": 2
          }
         }
        },
        "xaxis": {
         "anchor": "y",
         "domain": [
          0,
          0.45
         ],
         "title": {
          "text": "Epoch"
         }
        },
        "xaxis2": {
         "anchor": "y2",
         "domain": [
          0.55,
          1
         ],
         "title": {
          "text": "TRIP_MILES"
         }
        },
        "yaxis": {
         "anchor": "x",
         "domain": [
          0,
          1
         ],
         "range": [
          2.996525764465332,
          21.622079849243164
         ],
         "title": {
          "text": "Root Mean Squared Error"
         }
        },
        "yaxis2": {
         "anchor": "x2",
         "domain": [
          0,
          1
         ],
         "title": {
          "text": "FARE"
         }
        }
       }
      },
      "text/html": [
       "<div>                            <div id=\"26a0beed-155a-4259-a22f-b935970b5952\" class=\"plotly-graph-div\" style=\"height:525px; width:100%;\"></div>            <script type=\"text/javascript\">                require([\"plotly\"], function(Plotly) {                    window.PLOTLYENV=window.PLOTLYENV || {};                                    if (document.getElementById(\"26a0beed-155a-4259-a22f-b935970b5952\")) {                    Plotly.newPlot(                        \"26a0beed-155a-4259-a22f-b935970b5952\",                        [{\"hovertemplate\":\"TRIP_MILES=%{x}\\u003cbr\\u003eFARE=%{y}\\u003cextra\\u003e\\u003c\\u002fextra\\u003e\",\"legendgroup\":\"\",\"marker\":{\"color\":\"#636efa\",\"symbol\":\"circle\"},\"mode\":\"markers\",\"name\":\"\",\"orientation\":\"v\",\"showlegend\":false,\"x\":[18.5,1.3,1.83,0.78,13.4,29.07,13.9,2.25,4.03,17.8,10.4,12.18,2.31,20.64,16.9,0.9,2.0,2.5,14.8,1.58,17.13,17.81,4.55,16.6,2.01,16.5,1.87,12.27,3.46,18.1,7.98,7.9,2.16,5.95,17.62,13.5,16.79,1.1,18.65,17.51,18.3,1.13,1.45,1.07,4.8,4.52,4.0,1.39,16.64,1.91,1.7,0.7,3.05,11.17,2.43,7.5,7.82,17.81,1.35,16.7,18.47,1.65,1.2,18.27,17.16,1.8,4.6,10.4,17.26,12.36,0.55,2.2,18.08,2.75,1.35,4.29,11.4,2.6,1.71,1.0,0.9,12.2,18.23,12.04,1.1,0.8,6.9,11.39,1.5,19.67,0.8,1.72,7.38,1.7,5.61,14.98,1.68,11.18,17.4,16.9,2.0,25.91,8.77,20.74,18.22,2.82,11.42,7.4,19.34,4.4,12.9,14.87,14.0,8.55,2.51,7.19,1.01,13.28,5.23,17.83,18.19,18.04,2.1,12.48,14.0,1.36,5.6,5.0,17.9,2.0,6.9,1.61,11.52,4.86,3.4,0.7,7.71,5.45,34.2,18.1,0.9,6.57,1.55,0.73,2.63,1.47,3.2,14.37,17.63,11.3,7.22,18.12,23.5,17.8,16.97,8.55,13.33,9.16,1.5,1.87,11.13,8.92,12.88,2.1,21.19,15.82,13.54,3.31,1.75,17.59,13.2,12.28,12.54,7.64,10.1,1.59,17.32,11.8,1.9,16.73,12.94,20.2,1.39,12.01,1.1,11.7,16.05,10.16,7.2,6.87,1.8,10.56,12.7,15.37,17.6,7.3,3.7,19.5,0.7,1.86],\"xaxis\":\"x2\",\"y\":[44.75,8.75,8.5,5.5,37.25,69.5,36.5,10.21,13.75,44.25,26.75,34.0,9.91,50.75,44.25,5.75,9.25,12.36,39.25,9.0,43.0,45.25,14.75,41.25,11.29,40.25,8.25,32.0,12.25,46.5,21.25,22.0,10.9,18.75,43.75,34.25,59.91,6.25,47.25,43.0,45.0,6.25,7.5,6.5,71.0,15.94,25.25,8.0,43.5,9.0,8.0,5.25,13.31,32.26,10.25,23.25,22.75,44.0,7.0,45.75,46.25,8.25,7.25,45.25,42.0,10.25,16.0,29.25,43.25,34.5,4.75,10.0,43.75,10.5,6.5,13.75,31.0,10.5,11.0,7.25,5.5,31.0,45.25,33.75,6.5,5.5,20.02,29.5,7.0,49.5,5.25,8.25,23.75,9.25,17.5,37.25,9.0,29.5,44.0,41.75,9.0,70.64,23.25,50.5,47.25,11.75,30.0,21.5,56.33,14.24,32.75,44.75,35.25,9.96,9.75,27.5,5.75,37.75,16.0,45.0,45.0,46.25,9.25,33.5,38.0,7.5,26.0,15.16,44.5,8.5,21.0,7.75,32.75,15.31,11.0,5.75,23.5,15.85,81.5,46.5,5.75,27.5,7.0,5.0,11.98,8.25,11.25,36.5,44.25,30.25,22.5,45.0,57.5,47.0,42.75,24.25,34.25,24.5,8.0,9.25,29.25,23.25,32.75,10.0,52.25,41.25,36.5,12.0,8.25,45.5,32.25,32.5,33.25,27.5,26.0,7.75,43.25,34.0,10.0,50.37,34.93,50.0,9.0,30.75,6.25,33.75,40.75,30.0,21.75,18.75,8.5,27.25,35.0,41.5,44.25,22.25,12.92,50.25,5.5,8.75],\"yaxis\":\"y2\",\"type\":\"scatter\"},{\"hovertemplate\":\"TRIP_MILES=%{x}\\u003cbr\\u003eFARE_PREDICTED=%{y}\\u003cextra\\u003e\\u003c\\u002fextra\\u003e\",\"legendgroup\":\"\",\"line\":{\"color\":\"#ff0000\",\"dash\":\"solid\",\"width\":3},\"marker\":{\"symbol\":\"circle\"},\"mode\":\"lines\",\"name\":\"\",\"orientation\":\"v\",\"showlegend\":false,\"x\":[18.5,1.3,1.83,0.78,13.4,29.07,13.9,2.25,4.03,17.8,10.4,12.18,2.31,20.64,16.9,0.9,2.0,2.5,14.8,1.58,17.13,17.81,4.55,16.6,2.01,16.5,1.87,12.27,3.46,18.1,7.98,7.9,2.16,5.95,17.62,13.5,16.79,1.1,18.65,17.51,18.3,1.13,1.45,1.07,4.8,4.52,4.0,1.39,16.64,1.91,1.7,0.7,3.05,11.17,2.43,7.5,7.82,17.81,1.35,16.7,18.47,1.65,1.2,18.27,17.16,1.8,4.6,10.4,17.26,12.36,0.55,2.2,18.08,2.75,1.35,4.29,11.4,2.6,1.71,1.0,0.9,12.2,18.23,12.04,1.1,0.8,6.9,11.39,1.5,19.67,0.8,1.72,7.38,1.7,5.61,14.98,1.68,11.18,17.4,16.9,2.0,25.91,8.77,20.74,18.22,2.82,11.42,7.4,19.34,4.4,12.9,14.87,14.0,8.55,2.51,7.19,1.01,13.28,5.23,17.83,18.19,18.04,2.1,12.48,14.0,1.36,5.6,5.0,17.9,2.0,6.9,1.61,11.52,4.86,3.4,0.7,7.71,5.45,34.2,18.1,0.9,6.57,1.55,0.73,2.63,1.47,3.2,14.37,17.63,11.3,7.22,18.12,23.5,17.8,16.97,8.55,13.33,9.16,1.5,1.87,11.13,8.92,12.88,2.1,21.19,15.82,13.54,3.31,1.75,17.59,13.2,12.28,12.54,7.64,10.1,1.59,17.32,11.8,1.9,16.73,12.94,20.2,1.39,12.01,1.1,11.7,16.05,10.16,7.2,6.87,1.8,10.56,12.7,15.37,17.6,7.3,3.7,19.5,0.7,1.86],\"xaxis\":\"x2\",\"y\":[47.08689510822296,7.93404791355133,9.140501925945282,6.750357184410095,35.477620649337766,71.14768550634385,36.61578481197357,10.096559822559357,14.148424241542816,45.49346528053284,28.64863567352295,32.70050009250641,10.233139522075653,51.9582377243042,43.44476978778839,7.023516583442689,9.527477741241455,10.665641903877258,38.66448030471802,8.57141984462738,43.96832530260086,45.51622856378555,15.332114970684051,42.76187129020691,9.55024102449417,42.53423845767975,9.231555058956147,32.90536964178085,12.850917096138001,46.17636377811432,23.139921126365664,22.957814860343934,9.891690273284912,18.5189746260643,45.08372618198395,35.70525348186493,43.19437367200851,7.4787822484970095,47.4283443570137,44.83333006620408,46.63162944316864,7.547072098255157,8.275497162342072,7.410492398738861,15.901197052001953,15.263825120925903,14.080134391784668,8.138917462825775,42.85292442321777,9.32260819196701,8.844579243659973,6.568250918388367,11.917622482776641,30.401408483982085,10.506298921108247,22.04728353023529,22.775708594322204,45.51622856378555,8.04786432981491,42.98950412273407,47.01860525846481,8.730762827396394,7.70641508102417,46.56333959341049,44.03661515235901,9.072212076187135,15.445931386947631,28.64863567352295,44.264247984886175,33.1102391910553,6.226801669597625,9.982743406295777,46.130837211608885,11.23472398519516,8.04786432981491,14.740269606113435,30.924963998794556,10.893274736404418,8.86734252691269,7.251149415969849,7.023516583442689,32.74602665901184,46.47228646039963,32.38181412696838,7.4787822484970095,6.795883750915527,20.681486535072327,30.90220071554184,8.389313578605652,49.75019924879074,6.795883750915527,8.890105810165405,21.774124131202697,8.844579243659973,17.745022995471956,39.07421940326691,8.799052677154542,30.424171767234803,44.58293395042419,43.44476978778839,9.527477741241455,63.95448799848557,24.93822050333023,52.185870556831354,46.44952317714691,11.394066967964172,30.970490565299986,21.81965069770813,48.99901090145111,14.990665721893311,34.33945648670196,38.82382328748703,36.84341764450073,24.43742827177048,10.688405187129973,21.341621749401092,7.273912699222565,35.20446125030517,16.880018231868746,45.56175513029098,46.38123332738876,46.03978407859802,9.755110573768615,33.38339859008789,36.84341764450073,8.070627613067627,17.722259712219238,16.356462717056274,45.721098113059995,9.527477741241455,20.681486535072327,8.639709694385528,31.198123397827146,16.03777675151825,12.714337396621705,6.568250918388367,22.52531247854233,17.380810463428496,82.82524981498719,46.17636377811432,7.023516583442689,19.930298187732696,8.503129994869232,6.636540768146515,10.961564586162567,8.321023728847504,12.259071731567383,37.68565912485123,45.10648946523666,30.697331166267396,21.40991159915924,46.22189034461975,58.468536734580994,45.49346528053284,43.6041127705574,24.43742827177048,35.31827766656876,25.825988550186157,8.389313578605652,9.231555058956147,30.310355350971225,25.27966975212097,34.29392992019653,9.755110573768615,53.21021830320358,40.986335196495055,35.79630661487579,12.50946784734726,8.958395659923553,45.015436332225796,35.022354984283446,32.928132925033566,33.51997828960418,22.365969495773314,27.965737175941467,8.594183127880097,44.400827684402465,31.8354953289032,9.299844908714295,43.05779397249222,34.43050961971283,50.95665326118469,8.138917462825775,32.313524277210234,7.4787822484970095,31.607862496376036,41.50989071130753,28.102316875457763,21.36438503265381,20.61319668531418,9.072212076187135,29.012848205566407,33.88419082164764,39.961987450122834,45.03819961547852,21.592017865180967,13.397235894203186,49.36322343349457,6.568250918388367,9.20879177570343],\"yaxis\":\"y2\",\"type\":\"scatter\"},{\"hovertemplate\":\"x=%{x}\\u003cbr\\u003ey=%{y}\\u003cextra\\u003e\\u003c\\u002fextra\\u003e\",\"legendgroup\":\"\",\"line\":{\"color\":\"#ff0000\",\"dash\":\"solid\",\"width\":3},\"marker\":{\"symbol\":\"circle\"},\"mode\":\"lines\",\"name\":\"\",\"orientation\":\"v\",\"showlegend\":false,\"x\":[0,1,2,3,4,5,6,7,8,9,10,11,12,13,14,15,16,17,18,19],\"xaxis\":\"x\",\"y\":[21.622079849243164,14.603622436523438,8.0344820022583,4.328127861022949,4.036623001098633,3.9217917919158936,3.8431665897369385,3.7928574085235596,3.7666678428649902,3.754824638366699,3.7496678829193115,3.747227907180786,3.746635913848877,3.746446371078491,3.745809555053711,3.7457664012908936,3.74587082862854,3.746013641357422,3.7458748817443848,3.745657205581665],\"yaxis\":\"y\",\"type\":\"scatter\"}],                        {\"template\":{\"data\":{\"histogram2dcontour\":[{\"type\":\"histogram2dcontour\",\"colorbar\":{\"outlinewidth\":0,\"ticks\":\"\"},\"colorscale\":[[0.0,\"#0d0887\"],[0.1111111111111111,\"#46039f\"],[0.2222222222222222,\"#7201a8\"],[0.3333333333333333,\"#9c179e\"],[0.4444444444444444,\"#bd3786\"],[0.5555555555555556,\"#d8576b\"],[0.6666666666666666,\"#ed7953\"],[0.7777777777777778,\"#fb9f3a\"],[0.8888888888888888,\"#fdca26\"],[1.0,\"#f0f921\"]]}],\"choropleth\":[{\"type\":\"choropleth\",\"colorbar\":{\"outlinewidth\":0,\"ticks\":\"\"}}],\"histogram2d\":[{\"type\":\"histogram2d\",\"colorbar\":{\"outlinewidth\":0,\"ticks\":\"\"},\"colorscale\":[[0.0,\"#0d0887\"],[0.1111111111111111,\"#46039f\"],[0.2222222222222222,\"#7201a8\"],[0.3333333333333333,\"#9c179e\"],[0.4444444444444444,\"#bd3786\"],[0.5555555555555556,\"#d8576b\"],[0.6666666666666666,\"#ed7953\"],[0.7777777777777778,\"#fb9f3a\"],[0.8888888888888888,\"#fdca26\"],[1.0,\"#f0f921\"]]}],\"heatmap\":[{\"type\":\"heatmap\",\"colorbar\":{\"outlinewidth\":0,\"ticks\":\"\"},\"colorscale\":[[0.0,\"#0d0887\"],[0.1111111111111111,\"#46039f\"],[0.2222222222222222,\"#7201a8\"],[0.3333333333333333,\"#9c179e\"],[0.4444444444444444,\"#bd3786\"],[0.5555555555555556,\"#d8576b\"],[0.6666666666666666,\"#ed7953\"],[0.7777777777777778,\"#fb9f3a\"],[0.8888888888888888,\"#fdca26\"],[1.0,\"#f0f921\"]]}],\"heatmapgl\":[{\"type\":\"heatmapgl\",\"colorbar\":{\"outlinewidth\":0,\"ticks\":\"\"},\"colorscale\":[[0.0,\"#0d0887\"],[0.1111111111111111,\"#46039f\"],[0.2222222222222222,\"#7201a8\"],[0.3333333333333333,\"#9c179e\"],[0.4444444444444444,\"#bd3786\"],[0.5555555555555556,\"#d8576b\"],[0.6666666666666666,\"#ed7953\"],[0.7777777777777778,\"#fb9f3a\"],[0.8888888888888888,\"#fdca26\"],[1.0,\"#f0f921\"]]}],\"contourcarpet\":[{\"type\":\"contourcarpet\",\"colorbar\":{\"outlinewidth\":0,\"ticks\":\"\"}}],\"contour\":[{\"type\":\"contour\",\"colorbar\":{\"outlinewidth\":0,\"ticks\":\"\"},\"colorscale\":[[0.0,\"#0d0887\"],[0.1111111111111111,\"#46039f\"],[0.2222222222222222,\"#7201a8\"],[0.3333333333333333,\"#9c179e\"],[0.4444444444444444,\"#bd3786\"],[0.5555555555555556,\"#d8576b\"],[0.6666666666666666,\"#ed7953\"],[0.7777777777777778,\"#fb9f3a\"],[0.8888888888888888,\"#fdca26\"],[1.0,\"#f0f921\"]]}],\"surface\":[{\"type\":\"surface\",\"colorbar\":{\"outlinewidth\":0,\"ticks\":\"\"},\"colorscale\":[[0.0,\"#0d0887\"],[0.1111111111111111,\"#46039f\"],[0.2222222222222222,\"#7201a8\"],[0.3333333333333333,\"#9c179e\"],[0.4444444444444444,\"#bd3786\"],[0.5555555555555556,\"#d8576b\"],[0.6666666666666666,\"#ed7953\"],[0.7777777777777778,\"#fb9f3a\"],[0.8888888888888888,\"#fdca26\"],[1.0,\"#f0f921\"]]}],\"mesh3d\":[{\"type\":\"mesh3d\",\"colorbar\":{\"outlinewidth\":0,\"ticks\":\"\"}}],\"scatter\":[{\"fillpattern\":{\"fillmode\":\"overlay\",\"size\":10,\"solidity\":0.2},\"type\":\"scatter\"}],\"parcoords\":[{\"type\":\"parcoords\",\"line\":{\"colorbar\":{\"outlinewidth\":0,\"ticks\":\"\"}}}],\"scatterpolargl\":[{\"type\":\"scatterpolargl\",\"marker\":{\"colorbar\":{\"outlinewidth\":0,\"ticks\":\"\"}}}],\"bar\":[{\"error_x\":{\"color\":\"#2a3f5f\"},\"error_y\":{\"color\":\"#2a3f5f\"},\"marker\":{\"line\":{\"color\":\"#E5ECF6\",\"width\":0.5},\"pattern\":{\"fillmode\":\"overlay\",\"size\":10,\"solidity\":0.2}},\"type\":\"bar\"}],\"scattergeo\":[{\"type\":\"scattergeo\",\"marker\":{\"colorbar\":{\"outlinewidth\":0,\"ticks\":\"\"}}}],\"scatterpolar\":[{\"type\":\"scatterpolar\",\"marker\":{\"colorbar\":{\"outlinewidth\":0,\"ticks\":\"\"}}}],\"histogram\":[{\"marker\":{\"pattern\":{\"fillmode\":\"overlay\",\"size\":10,\"solidity\":0.2}},\"type\":\"histogram\"}],\"scattergl\":[{\"type\":\"scattergl\",\"marker\":{\"colorbar\":{\"outlinewidth\":0,\"ticks\":\"\"}}}],\"scatter3d\":[{\"type\":\"scatter3d\",\"line\":{\"colorbar\":{\"outlinewidth\":0,\"ticks\":\"\"}},\"marker\":{\"colorbar\":{\"outlinewidth\":0,\"ticks\":\"\"}}}],\"scattermapbox\":[{\"type\":\"scattermapbox\",\"marker\":{\"colorbar\":{\"outlinewidth\":0,\"ticks\":\"\"}}}],\"scatterternary\":[{\"type\":\"scatterternary\",\"marker\":{\"colorbar\":{\"outlinewidth\":0,\"ticks\":\"\"}}}],\"scattercarpet\":[{\"type\":\"scattercarpet\",\"marker\":{\"colorbar\":{\"outlinewidth\":0,\"ticks\":\"\"}}}],\"carpet\":[{\"aaxis\":{\"endlinecolor\":\"#2a3f5f\",\"gridcolor\":\"white\",\"linecolor\":\"white\",\"minorgridcolor\":\"white\",\"startlinecolor\":\"#2a3f5f\"},\"baxis\":{\"endlinecolor\":\"#2a3f5f\",\"gridcolor\":\"white\",\"linecolor\":\"white\",\"minorgridcolor\":\"white\",\"startlinecolor\":\"#2a3f5f\"},\"type\":\"carpet\"}],\"table\":[{\"cells\":{\"fill\":{\"color\":\"#EBF0F8\"},\"line\":{\"color\":\"white\"}},\"header\":{\"fill\":{\"color\":\"#C8D4E3\"},\"line\":{\"color\":\"white\"}},\"type\":\"table\"}],\"barpolar\":[{\"marker\":{\"line\":{\"color\":\"#E5ECF6\",\"width\":0.5},\"pattern\":{\"fillmode\":\"overlay\",\"size\":10,\"solidity\":0.2}},\"type\":\"barpolar\"}],\"pie\":[{\"automargin\":true,\"type\":\"pie\"}]},\"layout\":{\"autotypenumbers\":\"strict\",\"colorway\":[\"#636efa\",\"#EF553B\",\"#00cc96\",\"#ab63fa\",\"#FFA15A\",\"#19d3f3\",\"#FF6692\",\"#B6E880\",\"#FF97FF\",\"#FECB52\"],\"font\":{\"color\":\"#2a3f5f\"},\"hovermode\":\"closest\",\"hoverlabel\":{\"align\":\"left\"},\"paper_bgcolor\":\"white\",\"plot_bgcolor\":\"#E5ECF6\",\"polar\":{\"bgcolor\":\"#E5ECF6\",\"angularaxis\":{\"gridcolor\":\"white\",\"linecolor\":\"white\",\"ticks\":\"\"},\"radialaxis\":{\"gridcolor\":\"white\",\"linecolor\":\"white\",\"ticks\":\"\"}},\"ternary\":{\"bgcolor\":\"#E5ECF6\",\"aaxis\":{\"gridcolor\":\"white\",\"linecolor\":\"white\",\"ticks\":\"\"},\"baxis\":{\"gridcolor\":\"white\",\"linecolor\":\"white\",\"ticks\":\"\"},\"caxis\":{\"gridcolor\":\"white\",\"linecolor\":\"white\",\"ticks\":\"\"}},\"coloraxis\":{\"colorbar\":{\"outlinewidth\":0,\"ticks\":\"\"}},\"colorscale\":{\"sequential\":[[0.0,\"#0d0887\"],[0.1111111111111111,\"#46039f\"],[0.2222222222222222,\"#7201a8\"],[0.3333333333333333,\"#9c179e\"],[0.4444444444444444,\"#bd3786\"],[0.5555555555555556,\"#d8576b\"],[0.6666666666666666,\"#ed7953\"],[0.7777777777777778,\"#fb9f3a\"],[0.8888888888888888,\"#fdca26\"],[1.0,\"#f0f921\"]],\"sequentialminus\":[[0.0,\"#0d0887\"],[0.1111111111111111,\"#46039f\"],[0.2222222222222222,\"#7201a8\"],[0.3333333333333333,\"#9c179e\"],[0.4444444444444444,\"#bd3786\"],[0.5555555555555556,\"#d8576b\"],[0.6666666666666666,\"#ed7953\"],[0.7777777777777778,\"#fb9f3a\"],[0.8888888888888888,\"#fdca26\"],[1.0,\"#f0f921\"]],\"diverging\":[[0,\"#8e0152\"],[0.1,\"#c51b7d\"],[0.2,\"#de77ae\"],[0.3,\"#f1b6da\"],[0.4,\"#fde0ef\"],[0.5,\"#f7f7f7\"],[0.6,\"#e6f5d0\"],[0.7,\"#b8e186\"],[0.8,\"#7fbc41\"],[0.9,\"#4d9221\"],[1,\"#276419\"]]},\"xaxis\":{\"gridcolor\":\"white\",\"linecolor\":\"white\",\"ticks\":\"\",\"title\":{\"standoff\":15},\"zerolinecolor\":\"white\",\"automargin\":true,\"zerolinewidth\":2},\"yaxis\":{\"gridcolor\":\"white\",\"linecolor\":\"white\",\"ticks\":\"\",\"title\":{\"standoff\":15},\"zerolinecolor\":\"white\",\"automargin\":true,\"zerolinewidth\":2},\"scene\":{\"xaxis\":{\"backgroundcolor\":\"#E5ECF6\",\"gridcolor\":\"white\",\"linecolor\":\"white\",\"showbackground\":true,\"ticks\":\"\",\"zerolinecolor\":\"white\",\"gridwidth\":2},\"yaxis\":{\"backgroundcolor\":\"#E5ECF6\",\"gridcolor\":\"white\",\"linecolor\":\"white\",\"showbackground\":true,\"ticks\":\"\",\"zerolinecolor\":\"white\",\"gridwidth\":2},\"zaxis\":{\"backgroundcolor\":\"#E5ECF6\",\"gridcolor\":\"white\",\"linecolor\":\"white\",\"showbackground\":true,\"ticks\":\"\",\"zerolinecolor\":\"white\",\"gridwidth\":2}},\"shapedefaults\":{\"line\":{\"color\":\"#2a3f5f\"}},\"annotationdefaults\":{\"arrowcolor\":\"#2a3f5f\",\"arrowhead\":0,\"arrowwidth\":1},\"geo\":{\"bgcolor\":\"white\",\"landcolor\":\"#E5ECF6\",\"subunitcolor\":\"white\",\"showland\":true,\"showlakes\":true,\"lakecolor\":\"white\"},\"title\":{\"x\":0.05},\"mapbox\":{\"style\":\"light\"}}},\"xaxis\":{\"anchor\":\"y\",\"domain\":[0.0,0.45],\"title\":{\"text\":\"Epoch\"}},\"yaxis\":{\"anchor\":\"x\",\"domain\":[0.0,1.0],\"title\":{\"text\":\"Root Mean Squared Error\"},\"range\":[2.996525764465332,21.622079849243164]},\"xaxis2\":{\"anchor\":\"y2\",\"domain\":[0.55,1.0],\"title\":{\"text\":\"TRIP_MILES\"}},\"yaxis2\":{\"anchor\":\"x2\",\"domain\":[0.0,1.0],\"title\":{\"text\":\"FARE\"}},\"annotations\":[{\"font\":{\"size\":16},\"showarrow\":false,\"text\":\"Loss Curve\",\"x\":0.225,\"xanchor\":\"center\",\"xref\":\"paper\",\"y\":1.0,\"yanchor\":\"bottom\",\"yref\":\"paper\"},{\"font\":{\"size\":16},\"showarrow\":false,\"text\":\"Model Plot\",\"x\":0.775,\"xanchor\":\"center\",\"xref\":\"paper\",\"y\":1.0,\"yanchor\":\"bottom\",\"yref\":\"paper\"}]},                        {\"responsive\": true}                    ).then(function(){\n",
       "                            \n",
       "var gd = document.getElementById('26a0beed-155a-4259-a22f-b935970b5952');\n",
       "var x = new MutationObserver(function (mutations, observer) {{\n",
       "        var display = window.getComputedStyle(gd).display;\n",
       "        if (!display || display === 'none') {{\n",
       "            console.log([gd, 'removed!']);\n",
       "            Plotly.purge(gd);\n",
       "            observer.disconnect();\n",
       "        }}\n",
       "}});\n",
       "\n",
       "// Listen for the removal of the full notebook cells\n",
       "var notebookContainer = gd.closest('#notebook-container');\n",
       "if (notebookContainer) {{\n",
       "    x.observe(notebookContainer, {childList: true});\n",
       "}}\n",
       "\n",
       "// Listen for the clearing of the current output cell\n",
       "var outputEl = gd.closest('.output');\n",
       "if (outputEl) {{\n",
       "    x.observe(outputEl, {childList: true});\n",
       "}}\n",
       "\n",
       "                        })                };                });            </script>        </div>"
      ]
     },
     "metadata": {},
     "output_type": "display_data"
    }
   ],
   "source": [
    "#hyperparameters\n",
    "learning_rate = 0.001\n",
    "epochs = 20\n",
    "batch_size = 50\n",
    "\n",
    "features = ['TRIP_MILES']\n",
    "label = 'FARE'\n",
    "\n",
    "model_1 = run_experiment(training_df, features, label, learning_rate, epochs, batch_size)"
   ]
  },
  {
   "cell_type": "code",
   "execution_count": 28,
   "metadata": {},
   "outputs": [],
   "source": [
    "# learning_rate = 1.00\n",
    "# epochs = 20\n",
    "# batch_size = 50\n",
    "\n",
    "# features = ['TRIP_MILES']\n",
    "# label = 'FARE'\n",
    "\n",
    "# model_2 = run_experiment(training_df, features, label, learning_rate, epochs, batch_size)"
   ]
  },
  {
   "cell_type": "code",
   "execution_count": 29,
   "metadata": {},
   "outputs": [],
   "source": [
    "# learning_rate = 0.0001\n",
    "# epochs = 200\n",
    "# batch_size = 50\n",
    "\n",
    "# features = ['TRIP_MILES']\n",
    "# label = 'FARE'\n",
    "\n",
    "# model_3 = run_experiment(training_df, features, label, learning_rate, epochs, batch_size)"
   ]
  },
  {
   "cell_type": "code",
   "execution_count": 30,
   "metadata": {},
   "outputs": [],
   "source": [
    "# learning_rate = 0.001\n",
    "# epochs = 20\n",
    "# batch_size = 500\n",
    "\n",
    "# features = ['TRIP_MILES']\n",
    "# label = 'FARE'\n",
    "\n",
    "# model_4 = run_experiment(training_df, features, label, learning_rate, epochs, batch_size)"
   ]
  },
  {
   "cell_type": "code",
   "execution_count": 34,
   "metadata": {},
   "outputs": [
    {
     "name": "stdout",
     "output_type": "stream",
     "text": [
      "INFO: Starting training experiment with features:['TRIP_MILES', 'TRIP_MINUTES'] and label:FARE\n",
      "\n",
      "Epoch 1/20\n"
     ]
    },
    {
     "name": "stderr",
     "output_type": "stream",
     "text": [
      "/tmp/ipykernel_433559/346238295.py:5: SettingWithCopyWarning:\n",
      "\n",
      "\n",
      "A value is trying to be set on a copy of a slice from a DataFrame.\n",
      "Try using .loc[row_indexer,col_indexer] = value instead\n",
      "\n",
      "See the caveats in the documentation: https://pandas.pydata.org/pandas-docs/stable/user_guide/indexing.html#returning-a-view-versus-a-copy\n",
      "\n"
     ]
    },
    {
     "name": "stdout",
     "output_type": "stream",
     "text": [
      "\u001b[1m634/634\u001b[0m \u001b[32m━━━━━━━━━━━━━━━━━━━━\u001b[0m\u001b[37m\u001b[0m \u001b[1m1s\u001b[0m 778us/step - loss: 121.1893 - root_mean_squared_error: 11.0035\n",
      "Epoch 2/20\n",
      "\u001b[1m634/634\u001b[0m \u001b[32m━━━━━━━━━━━━━━━━━━━━\u001b[0m\u001b[37m\u001b[0m \u001b[1m1s\u001b[0m 763us/step - loss: 82.6405 - root_mean_squared_error: 9.0856\n",
      "Epoch 3/20\n",
      "\u001b[1m634/634\u001b[0m \u001b[32m━━━━━━━━━━━━━━━━━━━━\u001b[0m\u001b[37m\u001b[0m \u001b[1m1s\u001b[0m 797us/step - loss: 52.9742 - root_mean_squared_error: 7.2682\n",
      "Epoch 4/20\n",
      "\u001b[1m634/634\u001b[0m \u001b[32m━━━━━━━━━━━━━━━━━━━━\u001b[0m\u001b[37m\u001b[0m \u001b[1m1s\u001b[0m 815us/step - loss: 30.2783 - root_mean_squared_error: 5.5005\n",
      "Epoch 5/20\n",
      "\u001b[1m634/634\u001b[0m \u001b[32m━━━━━━━━━━━━━━━━━━━━\u001b[0m\u001b[37m\u001b[0m \u001b[1m1s\u001b[0m 856us/step - loss: 20.6929 - root_mean_squared_error: 4.5264\n",
      "Epoch 6/20\n",
      "\u001b[1m634/634\u001b[0m \u001b[32m━━━━━━━━━━━━━━━━━━━━\u001b[0m\u001b[37m\u001b[0m \u001b[1m1s\u001b[0m 978us/step - loss: 15.6264 - root_mean_squared_error: 3.9319\n",
      "Epoch 7/20\n",
      "\u001b[1m634/634\u001b[0m \u001b[32m━━━━━━━━━━━━━━━━━━━━\u001b[0m\u001b[37m\u001b[0m \u001b[1m1s\u001b[0m 828us/step - loss: 12.9677 - root_mean_squared_error: 3.5967\n",
      "Epoch 8/20\n",
      "\u001b[1m634/634\u001b[0m \u001b[32m━━━━━━━━━━━━━━━━━━━━\u001b[0m\u001b[37m\u001b[0m \u001b[1m1s\u001b[0m 845us/step - loss: 11.8284 - root_mean_squared_error: 3.4266\n",
      "Epoch 9/20\n",
      "\u001b[1m634/634\u001b[0m \u001b[32m━━━━━━━━━━━━━━━━━━━━\u001b[0m\u001b[37m\u001b[0m \u001b[1m1s\u001b[0m 788us/step - loss: 12.0210 - root_mean_squared_error: 3.4533\n",
      "Epoch 10/20\n",
      "\u001b[1m634/634\u001b[0m \u001b[32m━━━━━━━━━━━━━━━━━━━━\u001b[0m\u001b[37m\u001b[0m \u001b[1m1s\u001b[0m 791us/step - loss: 11.8665 - root_mean_squared_error: 3.4427\n",
      "Epoch 11/20\n",
      "\u001b[1m634/634\u001b[0m \u001b[32m━━━━━━━━━━━━━━━━━━━━\u001b[0m\u001b[37m\u001b[0m \u001b[1m1s\u001b[0m 774us/step - loss: 11.3509 - root_mean_squared_error: 3.3427\n",
      "Epoch 12/20\n",
      "\u001b[1m634/634\u001b[0m \u001b[32m━━━━━━━━━━━━━━━━━━━━\u001b[0m\u001b[37m\u001b[0m \u001b[1m1s\u001b[0m 850us/step - loss: 12.1540 - root_mean_squared_error: 3.4820\n",
      "Epoch 13/20\n",
      "\u001b[1m634/634\u001b[0m \u001b[32m━━━━━━━━━━━━━━━━━━━━\u001b[0m\u001b[37m\u001b[0m \u001b[1m1s\u001b[0m 758us/step - loss: 13.0364 - root_mean_squared_error: 3.6034\n",
      "Epoch 14/20\n",
      "\u001b[1m634/634\u001b[0m \u001b[32m━━━━━━━━━━━━━━━━━━━━\u001b[0m\u001b[37m\u001b[0m \u001b[1m0s\u001b[0m 719us/step - loss: 12.6193 - root_mean_squared_error: 3.5500\n",
      "Epoch 15/20\n",
      "\u001b[1m634/634\u001b[0m \u001b[32m━━━━━━━━━━━━━━━━━━━━\u001b[0m\u001b[37m\u001b[0m \u001b[1m1s\u001b[0m 1ms/step - loss: 12.8095 - root_mean_squared_error: 3.5674\n",
      "Epoch 16/20\n",
      "\u001b[1m634/634\u001b[0m \u001b[32m━━━━━━━━━━━━━━━━━━━━\u001b[0m\u001b[37m\u001b[0m \u001b[1m1s\u001b[0m 1ms/step - loss: 11.1653 - root_mean_squared_error: 3.3327\n",
      "Epoch 17/20\n",
      "\u001b[1m634/634\u001b[0m \u001b[32m━━━━━━━━━━━━━━━━━━━━\u001b[0m\u001b[37m\u001b[0m \u001b[1m1s\u001b[0m 810us/step - loss: 12.0546 - root_mean_squared_error: 3.4592\n",
      "Epoch 18/20\n",
      "\u001b[1m634/634\u001b[0m \u001b[32m━━━━━━━━━━━━━━━━━━━━\u001b[0m\u001b[37m\u001b[0m \u001b[1m1s\u001b[0m 831us/step - loss: 12.3748 - root_mean_squared_error: 3.5056\n",
      "Epoch 19/20\n",
      "\u001b[1m634/634\u001b[0m \u001b[32m━━━━━━━━━━━━━━━━━━━━\u001b[0m\u001b[37m\u001b[0m \u001b[1m0s\u001b[0m 759us/step - loss: 14.5905 - root_mean_squared_error: 3.7952\n",
      "Epoch 20/20\n",
      "\u001b[1m634/634\u001b[0m \u001b[32m━━━━━━━━━━━━━━━━━━━━\u001b[0m\u001b[37m\u001b[0m \u001b[1m1s\u001b[0m 803us/step - loss: 11.5425 - root_mean_squared_error: 3.3775\n",
      "\n",
      "SUCCESS: Training experiment completed.\n",
      "\n",
      "--------------------------------------------------------------------------------\n",
      "|                                  MODEL INFO                                  |\n",
      "--------------------------------------------------------------------------------\n",
      "Weight for feature[TRIP_MILES]: 2.024\n",
      "Weight for feature[TRIP_MINUTES]: 0.144\n",
      "Bias: 3.821\n",
      "\n",
      "FARE = 2.024 * TRIP_MILES + 0.144 * TRIP_MINUTES + 3.821\n",
      "\n"
     ]
    },
    {
     "data": {
      "application/vnd.plotly.v1+json": {
       "config": {
        "plotlyServerURL": "https://plot.ly"
       },
       "data": [
        {
         "hovertemplate": "TRIP_MILES=%{x}<br>TRIP_MINUTES=%{y}<br>FARE=%{z}<extra></extra>",
         "legendgroup": "",
         "marker": {
          "color": "#636efa",
          "symbol": "circle"
         },
         "mode": "markers",
         "name": "",
         "scene": "scene",
         "showlegend": false,
         "type": "scatter3d",
         "x": [
          1.4,
          2.3,
          0.94,
          2.2,
          28.6,
          1.44,
          15.16,
          12.4,
          12.7,
          17.5,
          17.01,
          0.73,
          18.01,
          3.29,
          1.34,
          8.82,
          1.5,
          3.85,
          2.34,
          17.5,
          18.28,
          2.18,
          0.5,
          17.8,
          19,
          14.36,
          1.99,
          0.77,
          4.83,
          10.7,
          1.5,
          4.78,
          21.03,
          28.3,
          7.44,
          8.56,
          4.8,
          1.9,
          17.94,
          9.11,
          7.82,
          7.3,
          1.42,
          24.63,
          6.6,
          14.64,
          17.4,
          11.4,
          19.63,
          11.98,
          2.4,
          9.5,
          10.3,
          6.21,
          12.79,
          5.76,
          0.8,
          0.82,
          1.9,
          14.7,
          10.61,
          1,
          19.1,
          6.47,
          1.45,
          0.78,
          4.8,
          6.32,
          10.7,
          28.7,
          17.8,
          10.7,
          17.53,
          1.17,
          0.6,
          4.3,
          1.86,
          7.4,
          0.73,
          16.94,
          1.76,
          11.8,
          14.32,
          10.89,
          1.77,
          1.27,
          7.2,
          1.16,
          11.9,
          1.37,
          4.59,
          1.4,
          1,
          1.1,
          2.2,
          1.09,
          19.19,
          18.45,
          1.69,
          2.9,
          3.5,
          1,
          3.1,
          1.34,
          8.46,
          21.28,
          2.5,
          4.9,
          19,
          1.57,
          5.1,
          1.3,
          17.29,
          17.49,
          3.28,
          0.86,
          20.3,
          4.38,
          0.94,
          11.03,
          0.96,
          17.79,
          6.29,
          1.76,
          0.7,
          22.8,
          2.65,
          17.5,
          1.33,
          0.5,
          11.96,
          3.72,
          2.5,
          2.18,
          14.7,
          3.54,
          18.05,
          17.23,
          1.9,
          7.29,
          11.9,
          5.62,
          1,
          12.03,
          11.3,
          0.5,
          9.06,
          25.6,
          4.03,
          0.9,
          0.83,
          1.42,
          0.9,
          4.72,
          6.26,
          3.19,
          0.53,
          3.3,
          6.51,
          17.8,
          2.01,
          1.93,
          9.15,
          1.36,
          2.73,
          10.03,
          17.71,
          17.3,
          14.3,
          18.3,
          8.72,
          0.56,
          7.89,
          2.52,
          0.6,
          2.78,
          5.61,
          16.6,
          3.12,
          0.91,
          13.9,
          11.52,
          19.98,
          11.23,
          20.7,
          17.9,
          10.33,
          0.95,
          0.7,
          17,
          17.8,
          1.49,
          1.42,
          19.21,
          15.1,
          0.66,
          3.15,
          1.09,
          14.01,
          7.29
         ],
         "y": [
          10,
          13,
          5.933333333333334,
          10,
          32,
          7.566666666666666,
          22.233333333333334,
          47,
          20.566666666666666,
          30,
          34.93333333333333,
          6.966666666666667,
          51.78333333333333,
          17.183333333333334,
          8.566666666666666,
          31.966666666666665,
          10,
          15.75,
          7.716666666666667,
          24,
          45.78333333333333,
          9.75,
          5,
          40,
          29,
          38.7,
          10.05,
          6.066666666666666,
          27.3,
          37,
          9,
          17.716666666666665,
          22.6,
          47,
          57.21666666666667,
          17.866666666666667,
          14,
          12,
          50.88333333333333,
          16.3,
          20.516666666666666,
          21.1,
          6.316666666666666,
          35.96666666666667,
          11.15,
          54.4,
          43.583333333333336,
          33,
          23.583333333333332,
          24.933333333333334,
          7.783333333333333,
          18.633333333333333,
          23,
          17.133333333333333,
          32.25,
          23.966666666666665,
          8,
          3.033333333333333,
          13,
          54,
          27,
          6.266666666666667,
          38,
          14.516666666666667,
          8.166666666666666,
          5.333333333333333,
          11.766666666666667,
          21.833333333333332,
          29.65,
          68,
          33,
          16,
          42.13333333333333,
          4.433333333333334,
          3,
          10,
          11,
          17,
          4.716666666666667,
          34.31666666666667,
          8.95,
          21.283333333333335,
          93.16666666666667,
          24.083333333333332,
          12.3,
          4.683333333333334,
          22.916666666666668,
          6.25,
          38,
          7.783333333333333,
          15.883333333333333,
          4,
          4,
          7,
          14.85,
          6.4,
          28.25,
          36.61666666666667,
          8.1,
          24.416666666666668,
          9,
          7,
          15,
          9.283333333333333,
          40.85,
          58.35,
          12,
          11,
          56,
          13,
          9,
          9,
          26.45,
          35.21666666666667,
          13.616666666666667,
          8.416666666666666,
          45,
          19.866666666666667,
          6.616666666666666,
          24.416666666666668,
          9.333333333333334,
          25.25,
          16.6,
          11.466666666666667,
          5,
          29,
          11.783333333333333,
          32,
          7.9,
          4.233333333333333,
          16.333333333333332,
          18.25,
          17,
          9.7,
          39,
          16.733333333333334,
          70.48333333333333,
          43.833333333333336,
          12,
          27.85,
          48,
          25,
          4,
          31.35,
          24,
          6,
          19.883333333333333,
          34,
          31.533333333333335,
          7,
          4.583333333333333,
          13.15,
          6,
          23.65,
          25.8,
          9.166666666666666,
          4.216666666666667,
          35,
          17.45,
          32.3,
          9.35,
          7.8,
          64.38333333333334,
          9.783333333333333,
          6.2,
          42.13333333333333,
          28.866666666666667,
          52.6,
          48,
          49,
          39.9,
          1.9333333333333333,
          23.866666666666667,
          8.416666666666666,
          5,
          8.033333333333333,
          8.683333333333334,
          38,
          25.7,
          5.866666666666666,
          50,
          27.9,
          40.083333333333336,
          41.333333333333336,
          64,
          46,
          34.46666666666667,
          5.7,
          3,
          64.98333333333333,
          35.18333333333333,
          9.3,
          13.466666666666667,
          43.75,
          32.93333333333333,
          4.933333333333334,
          13.85,
          6.466666666666667,
          29.85,
          26.116666666666667
         ],
         "z": [
          8,
          10,
          6,
          9.25,
          68.25,
          9,
          38.25,
          34,
          32.25,
          43.5,
          43,
          6,
          45.75,
          13,
          9,
          26.75,
          7.75,
          13.54,
          9.25,
          43.5,
          46.5,
          9.25,
          5,
          44.5,
          47,
          40.83,
          11.46,
          6,
          9,
          31.25,
          7.5,
          15.75,
          50.5,
          67.75,
          32,
          23.25,
          15,
          9.75,
          55,
          24.75,
          23.25,
          22.5,
          7,
          59.75,
          18.75,
          40.25,
          43.5,
          31.5,
          48.25,
          32,
          8.75,
          25.75,
          29.25,
          18.5,
          33.75,
          17.75,
          6.5,
          5.25,
          9.25,
          41,
          29.75,
          6.25,
          51.75,
          19,
          7.5,
          9,
          15,
          19.77,
          30,
          68.75,
          44.25,
          27.5,
          46.5,
          5.75,
          4.75,
          13.5,
          9,
          21,
          5.25,
          43.25,
          9,
          30.25,
          39.25,
          29.25,
          9,
          6.5,
          21.75,
          6.25,
          31.75,
          7.5,
          15.25,
          6.5,
          5.75,
          7.25,
          10.75,
          6.5,
          47.5,
          46.75,
          7.75,
          14,
          11.75,
          6.5,
          12.25,
          7.75,
          27,
          53,
          10.25,
          14.75,
          47.75,
          9,
          15,
          7.5,
          42.25,
          44.25,
          12.25,
          6.75,
          51,
          15.25,
          9,
          29.25,
          9,
          43.75,
          18,
          9.28,
          5.5,
          55.5,
          10.85,
          44.5,
          9,
          5,
          30.5,
          13.25,
          11.25,
          8.75,
          38,
          13,
          48.75,
          43.63,
          9.25,
          23.38,
          35.25,
          19,
          5.75,
          32.75,
          29.75,
          5.5,
          25.5,
          62.75,
          18.5,
          6.25,
          5.5,
          9,
          5.75,
          13.53,
          18.88,
          11.25,
          5,
          17.75,
          19.25,
          44,
          8.5,
          8.25,
          38.5,
          7.75,
          9.5,
          30,
          44,
          44,
          38.5,
          45.75,
          27,
          4.5,
          23.5,
          10.85,
          5.5,
          10.25,
          16.25,
          42.75,
          16,
          6,
          37.5,
          32.75,
          49.25,
          33.25,
          55.5,
          43.25,
          30,
          6,
          4.75,
          45.25,
          44,
          9,
          9,
          47.5,
          38,
          5.25,
          11.75,
          6.5,
          36.5,
          72.05
         ]
        },
        {
         "colorscale": [
          [
           0,
           "#89CFF0"
          ],
          [
           1,
           "#FFDB58"
          ]
         ],
         "scene": "scene",
         "type": "surface",
         "x": [
          0.5600000000000002,
          11.290154182751023,
          26.915877779959256
         ],
         "y": [
          1.9333333333333333,
          45.61666666666667,
          93.16666666666667
         ],
         "z": [
          [
           5.232573333183924,
           33.222902135650315,
           71.67837760448455
          ],
          [
           5.232573333183924,
           33.222902135650315,
           71.67837760448455
          ],
          [
           5.232573333183924,
           33.222902135650315,
           71.67837760448455
          ]
         ]
        },
        {
         "hovertemplate": "x=%{x}<br>y=%{y}<extra></extra>",
         "legendgroup": "",
         "line": {
          "color": "#ff0000",
          "dash": "solid",
          "width": 3
         },
         "marker": {
          "symbol": "circle"
         },
         "mode": "lines",
         "name": "",
         "orientation": "v",
         "showlegend": false,
         "type": "scatter",
         "x": [
          0,
          1,
          2,
          3,
          4,
          5,
          6,
          7,
          8,
          9,
          10,
          11,
          12,
          13,
          14,
          15,
          16,
          17,
          18,
          19
         ],
         "xaxis": "x",
         "y": [
          10.547871589660645,
          8.575274467468262,
          6.781732559204102,
          5.272912979125977,
          4.247319221496582,
          3.758732557296753,
          3.602579116821289,
          3.5417253971099854,
          3.5103676319122314,
          3.4928953647613525,
          3.484588861465454,
          3.4818265438079834,
          3.4796764850616455,
          3.478245496749878,
          3.4782607555389404,
          3.477484703063965,
          3.4776458740234375,
          3.4776437282562256,
          3.4780325889587402,
          3.477773904800415
         ],
         "yaxis": "y"
        }
       ],
       "layout": {
        "annotations": [
         {
          "font": {
           "size": 16
          },
          "showarrow": false,
          "text": "Loss Curve",
          "x": 0.225,
          "xanchor": "center",
          "xref": "paper",
          "y": 1,
          "yanchor": "bottom",
          "yref": "paper"
         },
         {
          "font": {
           "size": 16
          },
          "showarrow": false,
          "text": "Model Plot",
          "x": 0.775,
          "xanchor": "center",
          "xref": "paper",
          "y": 1,
          "yanchor": "bottom",
          "yref": "paper"
         }
        ],
        "scene": {
         "domain": {
          "x": [
           0.55,
           1
          ],
          "y": [
           0,
           1
          ]
         },
         "xaxis": {
          "title": {
           "text": "TRIP_MILES"
          }
         },
         "yaxis": {
          "title": {
           "text": "TRIP_MINUTES"
          }
         },
         "zaxis": {
          "title": {
           "text": "FARE"
          }
         }
        },
        "template": {
         "data": {
          "bar": [
           {
            "error_x": {
             "color": "#2a3f5f"
            },
            "error_y": {
             "color": "#2a3f5f"
            },
            "marker": {
             "line": {
              "color": "#E5ECF6",
              "width": 0.5
             },
             "pattern": {
              "fillmode": "overlay",
              "size": 10,
              "solidity": 0.2
             }
            },
            "type": "bar"
           }
          ],
          "barpolar": [
           {
            "marker": {
             "line": {
              "color": "#E5ECF6",
              "width": 0.5
             },
             "pattern": {
              "fillmode": "overlay",
              "size": 10,
              "solidity": 0.2
             }
            },
            "type": "barpolar"
           }
          ],
          "carpet": [
           {
            "aaxis": {
             "endlinecolor": "#2a3f5f",
             "gridcolor": "white",
             "linecolor": "white",
             "minorgridcolor": "white",
             "startlinecolor": "#2a3f5f"
            },
            "baxis": {
             "endlinecolor": "#2a3f5f",
             "gridcolor": "white",
             "linecolor": "white",
             "minorgridcolor": "white",
             "startlinecolor": "#2a3f5f"
            },
            "type": "carpet"
           }
          ],
          "choropleth": [
           {
            "colorbar": {
             "outlinewidth": 0,
             "ticks": ""
            },
            "type": "choropleth"
           }
          ],
          "contour": [
           {
            "colorbar": {
             "outlinewidth": 0,
             "ticks": ""
            },
            "colorscale": [
             [
              0,
              "#0d0887"
             ],
             [
              0.1111111111111111,
              "#46039f"
             ],
             [
              0.2222222222222222,
              "#7201a8"
             ],
             [
              0.3333333333333333,
              "#9c179e"
             ],
             [
              0.4444444444444444,
              "#bd3786"
             ],
             [
              0.5555555555555556,
              "#d8576b"
             ],
             [
              0.6666666666666666,
              "#ed7953"
             ],
             [
              0.7777777777777778,
              "#fb9f3a"
             ],
             [
              0.8888888888888888,
              "#fdca26"
             ],
             [
              1,
              "#f0f921"
             ]
            ],
            "type": "contour"
           }
          ],
          "contourcarpet": [
           {
            "colorbar": {
             "outlinewidth": 0,
             "ticks": ""
            },
            "type": "contourcarpet"
           }
          ],
          "heatmap": [
           {
            "colorbar": {
             "outlinewidth": 0,
             "ticks": ""
            },
            "colorscale": [
             [
              0,
              "#0d0887"
             ],
             [
              0.1111111111111111,
              "#46039f"
             ],
             [
              0.2222222222222222,
              "#7201a8"
             ],
             [
              0.3333333333333333,
              "#9c179e"
             ],
             [
              0.4444444444444444,
              "#bd3786"
             ],
             [
              0.5555555555555556,
              "#d8576b"
             ],
             [
              0.6666666666666666,
              "#ed7953"
             ],
             [
              0.7777777777777778,
              "#fb9f3a"
             ],
             [
              0.8888888888888888,
              "#fdca26"
             ],
             [
              1,
              "#f0f921"
             ]
            ],
            "type": "heatmap"
           }
          ],
          "heatmapgl": [
           {
            "colorbar": {
             "outlinewidth": 0,
             "ticks": ""
            },
            "colorscale": [
             [
              0,
              "#0d0887"
             ],
             [
              0.1111111111111111,
              "#46039f"
             ],
             [
              0.2222222222222222,
              "#7201a8"
             ],
             [
              0.3333333333333333,
              "#9c179e"
             ],
             [
              0.4444444444444444,
              "#bd3786"
             ],
             [
              0.5555555555555556,
              "#d8576b"
             ],
             [
              0.6666666666666666,
              "#ed7953"
             ],
             [
              0.7777777777777778,
              "#fb9f3a"
             ],
             [
              0.8888888888888888,
              "#fdca26"
             ],
             [
              1,
              "#f0f921"
             ]
            ],
            "type": "heatmapgl"
           }
          ],
          "histogram": [
           {
            "marker": {
             "pattern": {
              "fillmode": "overlay",
              "size": 10,
              "solidity": 0.2
             }
            },
            "type": "histogram"
           }
          ],
          "histogram2d": [
           {
            "colorbar": {
             "outlinewidth": 0,
             "ticks": ""
            },
            "colorscale": [
             [
              0,
              "#0d0887"
             ],
             [
              0.1111111111111111,
              "#46039f"
             ],
             [
              0.2222222222222222,
              "#7201a8"
             ],
             [
              0.3333333333333333,
              "#9c179e"
             ],
             [
              0.4444444444444444,
              "#bd3786"
             ],
             [
              0.5555555555555556,
              "#d8576b"
             ],
             [
              0.6666666666666666,
              "#ed7953"
             ],
             [
              0.7777777777777778,
              "#fb9f3a"
             ],
             [
              0.8888888888888888,
              "#fdca26"
             ],
             [
              1,
              "#f0f921"
             ]
            ],
            "type": "histogram2d"
           }
          ],
          "histogram2dcontour": [
           {
            "colorbar": {
             "outlinewidth": 0,
             "ticks": ""
            },
            "colorscale": [
             [
              0,
              "#0d0887"
             ],
             [
              0.1111111111111111,
              "#46039f"
             ],
             [
              0.2222222222222222,
              "#7201a8"
             ],
             [
              0.3333333333333333,
              "#9c179e"
             ],
             [
              0.4444444444444444,
              "#bd3786"
             ],
             [
              0.5555555555555556,
              "#d8576b"
             ],
             [
              0.6666666666666666,
              "#ed7953"
             ],
             [
              0.7777777777777778,
              "#fb9f3a"
             ],
             [
              0.8888888888888888,
              "#fdca26"
             ],
             [
              1,
              "#f0f921"
             ]
            ],
            "type": "histogram2dcontour"
           }
          ],
          "mesh3d": [
           {
            "colorbar": {
             "outlinewidth": 0,
             "ticks": ""
            },
            "type": "mesh3d"
           }
          ],
          "parcoords": [
           {
            "line": {
             "colorbar": {
              "outlinewidth": 0,
              "ticks": ""
             }
            },
            "type": "parcoords"
           }
          ],
          "pie": [
           {
            "automargin": true,
            "type": "pie"
           }
          ],
          "scatter": [
           {
            "fillpattern": {
             "fillmode": "overlay",
             "size": 10,
             "solidity": 0.2
            },
            "type": "scatter"
           }
          ],
          "scatter3d": [
           {
            "line": {
             "colorbar": {
              "outlinewidth": 0,
              "ticks": ""
             }
            },
            "marker": {
             "colorbar": {
              "outlinewidth": 0,
              "ticks": ""
             }
            },
            "type": "scatter3d"
           }
          ],
          "scattercarpet": [
           {
            "marker": {
             "colorbar": {
              "outlinewidth": 0,
              "ticks": ""
             }
            },
            "type": "scattercarpet"
           }
          ],
          "scattergeo": [
           {
            "marker": {
             "colorbar": {
              "outlinewidth": 0,
              "ticks": ""
             }
            },
            "type": "scattergeo"
           }
          ],
          "scattergl": [
           {
            "marker": {
             "colorbar": {
              "outlinewidth": 0,
              "ticks": ""
             }
            },
            "type": "scattergl"
           }
          ],
          "scattermapbox": [
           {
            "marker": {
             "colorbar": {
              "outlinewidth": 0,
              "ticks": ""
             }
            },
            "type": "scattermapbox"
           }
          ],
          "scatterpolar": [
           {
            "marker": {
             "colorbar": {
              "outlinewidth": 0,
              "ticks": ""
             }
            },
            "type": "scatterpolar"
           }
          ],
          "scatterpolargl": [
           {
            "marker": {
             "colorbar": {
              "outlinewidth": 0,
              "ticks": ""
             }
            },
            "type": "scatterpolargl"
           }
          ],
          "scatterternary": [
           {
            "marker": {
             "colorbar": {
              "outlinewidth": 0,
              "ticks": ""
             }
            },
            "type": "scatterternary"
           }
          ],
          "surface": [
           {
            "colorbar": {
             "outlinewidth": 0,
             "ticks": ""
            },
            "colorscale": [
             [
              0,
              "#0d0887"
             ],
             [
              0.1111111111111111,
              "#46039f"
             ],
             [
              0.2222222222222222,
              "#7201a8"
             ],
             [
              0.3333333333333333,
              "#9c179e"
             ],
             [
              0.4444444444444444,
              "#bd3786"
             ],
             [
              0.5555555555555556,
              "#d8576b"
             ],
             [
              0.6666666666666666,
              "#ed7953"
             ],
             [
              0.7777777777777778,
              "#fb9f3a"
             ],
             [
              0.8888888888888888,
              "#fdca26"
             ],
             [
              1,
              "#f0f921"
             ]
            ],
            "type": "surface"
           }
          ],
          "table": [
           {
            "cells": {
             "fill": {
              "color": "#EBF0F8"
             },
             "line": {
              "color": "white"
             }
            },
            "header": {
             "fill": {
              "color": "#C8D4E3"
             },
             "line": {
              "color": "white"
             }
            },
            "type": "table"
           }
          ]
         },
         "layout": {
          "annotationdefaults": {
           "arrowcolor": "#2a3f5f",
           "arrowhead": 0,
           "arrowwidth": 1
          },
          "autotypenumbers": "strict",
          "coloraxis": {
           "colorbar": {
            "outlinewidth": 0,
            "ticks": ""
           }
          },
          "colorscale": {
           "diverging": [
            [
             0,
             "#8e0152"
            ],
            [
             0.1,
             "#c51b7d"
            ],
            [
             0.2,
             "#de77ae"
            ],
            [
             0.3,
             "#f1b6da"
            ],
            [
             0.4,
             "#fde0ef"
            ],
            [
             0.5,
             "#f7f7f7"
            ],
            [
             0.6,
             "#e6f5d0"
            ],
            [
             0.7,
             "#b8e186"
            ],
            [
             0.8,
             "#7fbc41"
            ],
            [
             0.9,
             "#4d9221"
            ],
            [
             1,
             "#276419"
            ]
           ],
           "sequential": [
            [
             0,
             "#0d0887"
            ],
            [
             0.1111111111111111,
             "#46039f"
            ],
            [
             0.2222222222222222,
             "#7201a8"
            ],
            [
             0.3333333333333333,
             "#9c179e"
            ],
            [
             0.4444444444444444,
             "#bd3786"
            ],
            [
             0.5555555555555556,
             "#d8576b"
            ],
            [
             0.6666666666666666,
             "#ed7953"
            ],
            [
             0.7777777777777778,
             "#fb9f3a"
            ],
            [
             0.8888888888888888,
             "#fdca26"
            ],
            [
             1,
             "#f0f921"
            ]
           ],
           "sequentialminus": [
            [
             0,
             "#0d0887"
            ],
            [
             0.1111111111111111,
             "#46039f"
            ],
            [
             0.2222222222222222,
             "#7201a8"
            ],
            [
             0.3333333333333333,
             "#9c179e"
            ],
            [
             0.4444444444444444,
             "#bd3786"
            ],
            [
             0.5555555555555556,
             "#d8576b"
            ],
            [
             0.6666666666666666,
             "#ed7953"
            ],
            [
             0.7777777777777778,
             "#fb9f3a"
            ],
            [
             0.8888888888888888,
             "#fdca26"
            ],
            [
             1,
             "#f0f921"
            ]
           ]
          },
          "colorway": [
           "#636efa",
           "#EF553B",
           "#00cc96",
           "#ab63fa",
           "#FFA15A",
           "#19d3f3",
           "#FF6692",
           "#B6E880",
           "#FF97FF",
           "#FECB52"
          ],
          "font": {
           "color": "#2a3f5f"
          },
          "geo": {
           "bgcolor": "white",
           "lakecolor": "white",
           "landcolor": "#E5ECF6",
           "showlakes": true,
           "showland": true,
           "subunitcolor": "white"
          },
          "hoverlabel": {
           "align": "left"
          },
          "hovermode": "closest",
          "mapbox": {
           "style": "light"
          },
          "paper_bgcolor": "white",
          "plot_bgcolor": "#E5ECF6",
          "polar": {
           "angularaxis": {
            "gridcolor": "white",
            "linecolor": "white",
            "ticks": ""
           },
           "bgcolor": "#E5ECF6",
           "radialaxis": {
            "gridcolor": "white",
            "linecolor": "white",
            "ticks": ""
           }
          },
          "scene": {
           "xaxis": {
            "backgroundcolor": "#E5ECF6",
            "gridcolor": "white",
            "gridwidth": 2,
            "linecolor": "white",
            "showbackground": true,
            "ticks": "",
            "zerolinecolor": "white"
           },
           "yaxis": {
            "backgroundcolor": "#E5ECF6",
            "gridcolor": "white",
            "gridwidth": 2,
            "linecolor": "white",
            "showbackground": true,
            "ticks": "",
            "zerolinecolor": "white"
           },
           "zaxis": {
            "backgroundcolor": "#E5ECF6",
            "gridcolor": "white",
            "gridwidth": 2,
            "linecolor": "white",
            "showbackground": true,
            "ticks": "",
            "zerolinecolor": "white"
           }
          },
          "shapedefaults": {
           "line": {
            "color": "#2a3f5f"
           }
          },
          "ternary": {
           "aaxis": {
            "gridcolor": "white",
            "linecolor": "white",
            "ticks": ""
           },
           "baxis": {
            "gridcolor": "white",
            "linecolor": "white",
            "ticks": ""
           },
           "bgcolor": "#E5ECF6",
           "caxis": {
            "gridcolor": "white",
            "linecolor": "white",
            "ticks": ""
           }
          },
          "title": {
           "x": 0.05
          },
          "xaxis": {
           "automargin": true,
           "gridcolor": "white",
           "linecolor": "white",
           "ticks": "",
           "title": {
            "standoff": 15
           },
           "zerolinecolor": "white",
           "zerolinewidth": 2
          },
          "yaxis": {
           "automargin": true,
           "gridcolor": "white",
           "linecolor": "white",
           "ticks": "",
           "title": {
            "standoff": 15
           },
           "zerolinecolor": "white",
           "zerolinewidth": 2
          }
         }
        },
        "xaxis": {
         "anchor": "y",
         "domain": [
          0,
          0.45
         ],
         "title": {
          "text": "Epoch"
         }
        },
        "yaxis": {
         "anchor": "x",
         "domain": [
          0,
          1
         ],
         "range": [
          2.781987762451172,
          10.547871589660645
         ],
         "title": {
          "text": "Root Mean Squared Error"
         }
        }
       }
      },
      "text/html": [
       "<div>                            <div id=\"036e9d57-eccd-4a08-85b0-3be9fff7aa93\" class=\"plotly-graph-div\" style=\"height:525px; width:100%;\"></div>            <script type=\"text/javascript\">                require([\"plotly\"], function(Plotly) {                    window.PLOTLYENV=window.PLOTLYENV || {};                                    if (document.getElementById(\"036e9d57-eccd-4a08-85b0-3be9fff7aa93\")) {                    Plotly.newPlot(                        \"036e9d57-eccd-4a08-85b0-3be9fff7aa93\",                        [{\"hovertemplate\":\"TRIP_MILES=%{x}\\u003cbr\\u003eTRIP_MINUTES=%{y}\\u003cbr\\u003eFARE=%{z}\\u003cextra\\u003e\\u003c\\u002fextra\\u003e\",\"legendgroup\":\"\",\"marker\":{\"color\":\"#636efa\",\"symbol\":\"circle\"},\"mode\":\"markers\",\"name\":\"\",\"scene\":\"scene\",\"showlegend\":false,\"x\":[1.4,2.3,0.94,2.2,28.6,1.44,15.16,12.4,12.7,17.5,17.01,0.73,18.01,3.29,1.34,8.82,1.5,3.85,2.34,17.5,18.28,2.18,0.5,17.8,19.0,14.36,1.99,0.77,4.83,10.7,1.5,4.78,21.03,28.3,7.44,8.56,4.8,1.9,17.94,9.11,7.82,7.3,1.42,24.63,6.6,14.64,17.4,11.4,19.63,11.98,2.4,9.5,10.3,6.21,12.79,5.76,0.8,0.82,1.9,14.7,10.61,1.0,19.1,6.47,1.45,0.78,4.8,6.32,10.7,28.7,17.8,10.7,17.53,1.17,0.6,4.3,1.86,7.4,0.73,16.94,1.76,11.8,14.32,10.89,1.77,1.27,7.2,1.16,11.9,1.37,4.59,1.4,1.0,1.1,2.2,1.09,19.19,18.45,1.69,2.9,3.5,1.0,3.1,1.34,8.46,21.28,2.5,4.9,19.0,1.57,5.1,1.3,17.29,17.49,3.28,0.86,20.3,4.38,0.94,11.03,0.96,17.79,6.29,1.76,0.7,22.8,2.65,17.5,1.33,0.5,11.96,3.72,2.5,2.18,14.7,3.54,18.05,17.23,1.9,7.29,11.9,5.62,1.0,12.03,11.3,0.5,9.06,25.6,4.03,0.9,0.83,1.42,0.9,4.72,6.26,3.19,0.53,3.3,6.51,17.8,2.01,1.93,9.15,1.36,2.73,10.03,17.71,17.3,14.3,18.3,8.72,0.56,7.89,2.52,0.6,2.78,5.61,16.6,3.12,0.91,13.9,11.52,19.98,11.23,20.7,17.9,10.33,0.95,0.7,17.0,17.8,1.49,1.42,19.21,15.1,0.66,3.15,1.09,14.01,7.29],\"y\":[10.0,13.0,5.933333333333334,10.0,32.0,7.566666666666666,22.233333333333334,47.0,20.566666666666666,30.0,34.93333333333333,6.966666666666667,51.78333333333333,17.183333333333334,8.566666666666666,31.966666666666665,10.0,15.75,7.716666666666667,24.0,45.78333333333333,9.75,5.0,40.0,29.0,38.7,10.05,6.066666666666666,27.3,37.0,9.0,17.716666666666665,22.6,47.0,57.21666666666667,17.866666666666667,14.0,12.0,50.88333333333333,16.3,20.516666666666666,21.1,6.316666666666666,35.96666666666667,11.15,54.4,43.583333333333336,33.0,23.583333333333332,24.933333333333334,7.783333333333333,18.633333333333333,23.0,17.133333333333333,32.25,23.966666666666665,8.0,3.033333333333333,13.0,54.0,27.0,6.266666666666667,38.0,14.516666666666667,8.166666666666666,5.333333333333333,11.766666666666667,21.833333333333332,29.65,68.0,33.0,16.0,42.13333333333333,4.433333333333334,3.0,10.0,11.0,17.0,4.716666666666667,34.31666666666667,8.95,21.283333333333335,93.16666666666667,24.083333333333332,12.3,4.683333333333334,22.916666666666668,6.25,38.0,7.783333333333333,15.883333333333333,4.0,4.0,7.0,14.85,6.4,28.25,36.61666666666667,8.1,24.416666666666668,9.0,7.0,15.0,9.283333333333333,40.85,58.35,12.0,11.0,56.0,13.0,9.0,9.0,26.45,35.21666666666667,13.616666666666667,8.416666666666666,45.0,19.866666666666667,6.616666666666666,24.416666666666668,9.333333333333334,25.25,16.6,11.466666666666667,5.0,29.0,11.783333333333333,32.0,7.9,4.233333333333333,16.333333333333332,18.25,17.0,9.7,39.0,16.733333333333334,70.48333333333333,43.833333333333336,12.0,27.85,48.0,25.0,4.0,31.35,24.0,6.0,19.883333333333333,34.0,31.533333333333335,7.0,4.583333333333333,13.15,6.0,23.65,25.8,9.166666666666666,4.216666666666667,35.0,17.45,32.3,9.35,7.8,64.38333333333334,9.783333333333333,6.2,42.13333333333333,28.866666666666667,52.6,48.0,49.0,39.9,1.9333333333333333,23.866666666666667,8.416666666666666,5.0,8.033333333333333,8.683333333333334,38.0,25.7,5.866666666666666,50.0,27.9,40.083333333333336,41.333333333333336,64.0,46.0,34.46666666666667,5.7,3.0,64.98333333333333,35.18333333333333,9.3,13.466666666666667,43.75,32.93333333333333,4.933333333333334,13.85,6.466666666666667,29.85,26.116666666666667],\"z\":[8.0,10.0,6.0,9.25,68.25,9.0,38.25,34.0,32.25,43.5,43.0,6.0,45.75,13.0,9.0,26.75,7.75,13.54,9.25,43.5,46.5,9.25,5.0,44.5,47.0,40.83,11.46,6.0,9.0,31.25,7.5,15.75,50.5,67.75,32.0,23.25,15.0,9.75,55.0,24.75,23.25,22.5,7.0,59.75,18.75,40.25,43.5,31.5,48.25,32.0,8.75,25.75,29.25,18.5,33.75,17.75,6.5,5.25,9.25,41.0,29.75,6.25,51.75,19.0,7.5,9.0,15.0,19.77,30.0,68.75,44.25,27.5,46.5,5.75,4.75,13.5,9.0,21.0,5.25,43.25,9.0,30.25,39.25,29.25,9.0,6.5,21.75,6.25,31.75,7.5,15.25,6.5,5.75,7.25,10.75,6.5,47.5,46.75,7.75,14.0,11.75,6.5,12.25,7.75,27.0,53.0,10.25,14.75,47.75,9.0,15.0,7.5,42.25,44.25,12.25,6.75,51.0,15.25,9.0,29.25,9.0,43.75,18.0,9.28,5.5,55.5,10.85,44.5,9.0,5.0,30.5,13.25,11.25,8.75,38.0,13.0,48.75,43.63,9.25,23.38,35.25,19.0,5.75,32.75,29.75,5.5,25.5,62.75,18.5,6.25,5.5,9.0,5.75,13.53,18.88,11.25,5.0,17.75,19.25,44.0,8.5,8.25,38.5,7.75,9.5,30.0,44.0,44.0,38.5,45.75,27.0,4.5,23.5,10.85,5.5,10.25,16.25,42.75,16.0,6.0,37.5,32.75,49.25,33.25,55.5,43.25,30.0,6.0,4.75,45.25,44.0,9.0,9.0,47.5,38.0,5.25,11.75,6.5,36.5,72.05],\"type\":\"scatter3d\"},{\"colorscale\":[[0,\"#89CFF0\"],[1,\"#FFDB58\"]],\"x\":[0.5600000000000002,11.290154182751023,26.915877779959256],\"y\":[1.9333333333333333,45.61666666666667,93.16666666666667],\"z\":[[5.232573333183924,33.222902135650315,71.67837760448455],[5.232573333183924,33.222902135650315,71.67837760448455],[5.232573333183924,33.222902135650315,71.67837760448455]],\"type\":\"surface\",\"scene\":\"scene\"},{\"hovertemplate\":\"x=%{x}\\u003cbr\\u003ey=%{y}\\u003cextra\\u003e\\u003c\\u002fextra\\u003e\",\"legendgroup\":\"\",\"line\":{\"color\":\"#ff0000\",\"dash\":\"solid\",\"width\":3},\"marker\":{\"symbol\":\"circle\"},\"mode\":\"lines\",\"name\":\"\",\"orientation\":\"v\",\"showlegend\":false,\"x\":[0,1,2,3,4,5,6,7,8,9,10,11,12,13,14,15,16,17,18,19],\"xaxis\":\"x\",\"y\":[10.547871589660645,8.575274467468262,6.781732559204102,5.272912979125977,4.247319221496582,3.758732557296753,3.602579116821289,3.5417253971099854,3.5103676319122314,3.4928953647613525,3.484588861465454,3.4818265438079834,3.4796764850616455,3.478245496749878,3.4782607555389404,3.477484703063965,3.4776458740234375,3.4776437282562256,3.4780325889587402,3.477773904800415],\"yaxis\":\"y\",\"type\":\"scatter\"}],                        {\"template\":{\"data\":{\"histogram2dcontour\":[{\"type\":\"histogram2dcontour\",\"colorbar\":{\"outlinewidth\":0,\"ticks\":\"\"},\"colorscale\":[[0.0,\"#0d0887\"],[0.1111111111111111,\"#46039f\"],[0.2222222222222222,\"#7201a8\"],[0.3333333333333333,\"#9c179e\"],[0.4444444444444444,\"#bd3786\"],[0.5555555555555556,\"#d8576b\"],[0.6666666666666666,\"#ed7953\"],[0.7777777777777778,\"#fb9f3a\"],[0.8888888888888888,\"#fdca26\"],[1.0,\"#f0f921\"]]}],\"choropleth\":[{\"type\":\"choropleth\",\"colorbar\":{\"outlinewidth\":0,\"ticks\":\"\"}}],\"histogram2d\":[{\"type\":\"histogram2d\",\"colorbar\":{\"outlinewidth\":0,\"ticks\":\"\"},\"colorscale\":[[0.0,\"#0d0887\"],[0.1111111111111111,\"#46039f\"],[0.2222222222222222,\"#7201a8\"],[0.3333333333333333,\"#9c179e\"],[0.4444444444444444,\"#bd3786\"],[0.5555555555555556,\"#d8576b\"],[0.6666666666666666,\"#ed7953\"],[0.7777777777777778,\"#fb9f3a\"],[0.8888888888888888,\"#fdca26\"],[1.0,\"#f0f921\"]]}],\"heatmap\":[{\"type\":\"heatmap\",\"colorbar\":{\"outlinewidth\":0,\"ticks\":\"\"},\"colorscale\":[[0.0,\"#0d0887\"],[0.1111111111111111,\"#46039f\"],[0.2222222222222222,\"#7201a8\"],[0.3333333333333333,\"#9c179e\"],[0.4444444444444444,\"#bd3786\"],[0.5555555555555556,\"#d8576b\"],[0.6666666666666666,\"#ed7953\"],[0.7777777777777778,\"#fb9f3a\"],[0.8888888888888888,\"#fdca26\"],[1.0,\"#f0f921\"]]}],\"heatmapgl\":[{\"type\":\"heatmapgl\",\"colorbar\":{\"outlinewidth\":0,\"ticks\":\"\"},\"colorscale\":[[0.0,\"#0d0887\"],[0.1111111111111111,\"#46039f\"],[0.2222222222222222,\"#7201a8\"],[0.3333333333333333,\"#9c179e\"],[0.4444444444444444,\"#bd3786\"],[0.5555555555555556,\"#d8576b\"],[0.6666666666666666,\"#ed7953\"],[0.7777777777777778,\"#fb9f3a\"],[0.8888888888888888,\"#fdca26\"],[1.0,\"#f0f921\"]]}],\"contourcarpet\":[{\"type\":\"contourcarpet\",\"colorbar\":{\"outlinewidth\":0,\"ticks\":\"\"}}],\"contour\":[{\"type\":\"contour\",\"colorbar\":{\"outlinewidth\":0,\"ticks\":\"\"},\"colorscale\":[[0.0,\"#0d0887\"],[0.1111111111111111,\"#46039f\"],[0.2222222222222222,\"#7201a8\"],[0.3333333333333333,\"#9c179e\"],[0.4444444444444444,\"#bd3786\"],[0.5555555555555556,\"#d8576b\"],[0.6666666666666666,\"#ed7953\"],[0.7777777777777778,\"#fb9f3a\"],[0.8888888888888888,\"#fdca26\"],[1.0,\"#f0f921\"]]}],\"surface\":[{\"type\":\"surface\",\"colorbar\":{\"outlinewidth\":0,\"ticks\":\"\"},\"colorscale\":[[0.0,\"#0d0887\"],[0.1111111111111111,\"#46039f\"],[0.2222222222222222,\"#7201a8\"],[0.3333333333333333,\"#9c179e\"],[0.4444444444444444,\"#bd3786\"],[0.5555555555555556,\"#d8576b\"],[0.6666666666666666,\"#ed7953\"],[0.7777777777777778,\"#fb9f3a\"],[0.8888888888888888,\"#fdca26\"],[1.0,\"#f0f921\"]]}],\"mesh3d\":[{\"type\":\"mesh3d\",\"colorbar\":{\"outlinewidth\":0,\"ticks\":\"\"}}],\"scatter\":[{\"fillpattern\":{\"fillmode\":\"overlay\",\"size\":10,\"solidity\":0.2},\"type\":\"scatter\"}],\"parcoords\":[{\"type\":\"parcoords\",\"line\":{\"colorbar\":{\"outlinewidth\":0,\"ticks\":\"\"}}}],\"scatterpolargl\":[{\"type\":\"scatterpolargl\",\"marker\":{\"colorbar\":{\"outlinewidth\":0,\"ticks\":\"\"}}}],\"bar\":[{\"error_x\":{\"color\":\"#2a3f5f\"},\"error_y\":{\"color\":\"#2a3f5f\"},\"marker\":{\"line\":{\"color\":\"#E5ECF6\",\"width\":0.5},\"pattern\":{\"fillmode\":\"overlay\",\"size\":10,\"solidity\":0.2}},\"type\":\"bar\"}],\"scattergeo\":[{\"type\":\"scattergeo\",\"marker\":{\"colorbar\":{\"outlinewidth\":0,\"ticks\":\"\"}}}],\"scatterpolar\":[{\"type\":\"scatterpolar\",\"marker\":{\"colorbar\":{\"outlinewidth\":0,\"ticks\":\"\"}}}],\"histogram\":[{\"marker\":{\"pattern\":{\"fillmode\":\"overlay\",\"size\":10,\"solidity\":0.2}},\"type\":\"histogram\"}],\"scattergl\":[{\"type\":\"scattergl\",\"marker\":{\"colorbar\":{\"outlinewidth\":0,\"ticks\":\"\"}}}],\"scatter3d\":[{\"type\":\"scatter3d\",\"line\":{\"colorbar\":{\"outlinewidth\":0,\"ticks\":\"\"}},\"marker\":{\"colorbar\":{\"outlinewidth\":0,\"ticks\":\"\"}}}],\"scattermapbox\":[{\"type\":\"scattermapbox\",\"marker\":{\"colorbar\":{\"outlinewidth\":0,\"ticks\":\"\"}}}],\"scatterternary\":[{\"type\":\"scatterternary\",\"marker\":{\"colorbar\":{\"outlinewidth\":0,\"ticks\":\"\"}}}],\"scattercarpet\":[{\"type\":\"scattercarpet\",\"marker\":{\"colorbar\":{\"outlinewidth\":0,\"ticks\":\"\"}}}],\"carpet\":[{\"aaxis\":{\"endlinecolor\":\"#2a3f5f\",\"gridcolor\":\"white\",\"linecolor\":\"white\",\"minorgridcolor\":\"white\",\"startlinecolor\":\"#2a3f5f\"},\"baxis\":{\"endlinecolor\":\"#2a3f5f\",\"gridcolor\":\"white\",\"linecolor\":\"white\",\"minorgridcolor\":\"white\",\"startlinecolor\":\"#2a3f5f\"},\"type\":\"carpet\"}],\"table\":[{\"cells\":{\"fill\":{\"color\":\"#EBF0F8\"},\"line\":{\"color\":\"white\"}},\"header\":{\"fill\":{\"color\":\"#C8D4E3\"},\"line\":{\"color\":\"white\"}},\"type\":\"table\"}],\"barpolar\":[{\"marker\":{\"line\":{\"color\":\"#E5ECF6\",\"width\":0.5},\"pattern\":{\"fillmode\":\"overlay\",\"size\":10,\"solidity\":0.2}},\"type\":\"barpolar\"}],\"pie\":[{\"automargin\":true,\"type\":\"pie\"}]},\"layout\":{\"autotypenumbers\":\"strict\",\"colorway\":[\"#636efa\",\"#EF553B\",\"#00cc96\",\"#ab63fa\",\"#FFA15A\",\"#19d3f3\",\"#FF6692\",\"#B6E880\",\"#FF97FF\",\"#FECB52\"],\"font\":{\"color\":\"#2a3f5f\"},\"hovermode\":\"closest\",\"hoverlabel\":{\"align\":\"left\"},\"paper_bgcolor\":\"white\",\"plot_bgcolor\":\"#E5ECF6\",\"polar\":{\"bgcolor\":\"#E5ECF6\",\"angularaxis\":{\"gridcolor\":\"white\",\"linecolor\":\"white\",\"ticks\":\"\"},\"radialaxis\":{\"gridcolor\":\"white\",\"linecolor\":\"white\",\"ticks\":\"\"}},\"ternary\":{\"bgcolor\":\"#E5ECF6\",\"aaxis\":{\"gridcolor\":\"white\",\"linecolor\":\"white\",\"ticks\":\"\"},\"baxis\":{\"gridcolor\":\"white\",\"linecolor\":\"white\",\"ticks\":\"\"},\"caxis\":{\"gridcolor\":\"white\",\"linecolor\":\"white\",\"ticks\":\"\"}},\"coloraxis\":{\"colorbar\":{\"outlinewidth\":0,\"ticks\":\"\"}},\"colorscale\":{\"sequential\":[[0.0,\"#0d0887\"],[0.1111111111111111,\"#46039f\"],[0.2222222222222222,\"#7201a8\"],[0.3333333333333333,\"#9c179e\"],[0.4444444444444444,\"#bd3786\"],[0.5555555555555556,\"#d8576b\"],[0.6666666666666666,\"#ed7953\"],[0.7777777777777778,\"#fb9f3a\"],[0.8888888888888888,\"#fdca26\"],[1.0,\"#f0f921\"]],\"sequentialminus\":[[0.0,\"#0d0887\"],[0.1111111111111111,\"#46039f\"],[0.2222222222222222,\"#7201a8\"],[0.3333333333333333,\"#9c179e\"],[0.4444444444444444,\"#bd3786\"],[0.5555555555555556,\"#d8576b\"],[0.6666666666666666,\"#ed7953\"],[0.7777777777777778,\"#fb9f3a\"],[0.8888888888888888,\"#fdca26\"],[1.0,\"#f0f921\"]],\"diverging\":[[0,\"#8e0152\"],[0.1,\"#c51b7d\"],[0.2,\"#de77ae\"],[0.3,\"#f1b6da\"],[0.4,\"#fde0ef\"],[0.5,\"#f7f7f7\"],[0.6,\"#e6f5d0\"],[0.7,\"#b8e186\"],[0.8,\"#7fbc41\"],[0.9,\"#4d9221\"],[1,\"#276419\"]]},\"xaxis\":{\"gridcolor\":\"white\",\"linecolor\":\"white\",\"ticks\":\"\",\"title\":{\"standoff\":15},\"zerolinecolor\":\"white\",\"automargin\":true,\"zerolinewidth\":2},\"yaxis\":{\"gridcolor\":\"white\",\"linecolor\":\"white\",\"ticks\":\"\",\"title\":{\"standoff\":15},\"zerolinecolor\":\"white\",\"automargin\":true,\"zerolinewidth\":2},\"scene\":{\"xaxis\":{\"backgroundcolor\":\"#E5ECF6\",\"gridcolor\":\"white\",\"linecolor\":\"white\",\"showbackground\":true,\"ticks\":\"\",\"zerolinecolor\":\"white\",\"gridwidth\":2},\"yaxis\":{\"backgroundcolor\":\"#E5ECF6\",\"gridcolor\":\"white\",\"linecolor\":\"white\",\"showbackground\":true,\"ticks\":\"\",\"zerolinecolor\":\"white\",\"gridwidth\":2},\"zaxis\":{\"backgroundcolor\":\"#E5ECF6\",\"gridcolor\":\"white\",\"linecolor\":\"white\",\"showbackground\":true,\"ticks\":\"\",\"zerolinecolor\":\"white\",\"gridwidth\":2}},\"shapedefaults\":{\"line\":{\"color\":\"#2a3f5f\"}},\"annotationdefaults\":{\"arrowcolor\":\"#2a3f5f\",\"arrowhead\":0,\"arrowwidth\":1},\"geo\":{\"bgcolor\":\"white\",\"landcolor\":\"#E5ECF6\",\"subunitcolor\":\"white\",\"showland\":true,\"showlakes\":true,\"lakecolor\":\"white\"},\"title\":{\"x\":0.05},\"mapbox\":{\"style\":\"light\"}}},\"xaxis\":{\"anchor\":\"y\",\"domain\":[0.0,0.45],\"title\":{\"text\":\"Epoch\"}},\"yaxis\":{\"anchor\":\"x\",\"domain\":[0.0,1.0],\"title\":{\"text\":\"Root Mean Squared Error\"},\"range\":[2.781987762451172,10.547871589660645]},\"scene\":{\"domain\":{\"x\":[0.55,1.0],\"y\":[0.0,1.0]},\"xaxis\":{\"title\":{\"text\":\"TRIP_MILES\"}},\"yaxis\":{\"title\":{\"text\":\"TRIP_MINUTES\"}},\"zaxis\":{\"title\":{\"text\":\"FARE\"}}},\"annotations\":[{\"font\":{\"size\":16},\"showarrow\":false,\"text\":\"Loss Curve\",\"x\":0.225,\"xanchor\":\"center\",\"xref\":\"paper\",\"y\":1.0,\"yanchor\":\"bottom\",\"yref\":\"paper\"},{\"font\":{\"size\":16},\"showarrow\":false,\"text\":\"Model Plot\",\"x\":0.775,\"xanchor\":\"center\",\"xref\":\"paper\",\"y\":1.0,\"yanchor\":\"bottom\",\"yref\":\"paper\"}]},                        {\"responsive\": true}                    ).then(function(){\n",
       "                            \n",
       "var gd = document.getElementById('036e9d57-eccd-4a08-85b0-3be9fff7aa93');\n",
       "var x = new MutationObserver(function (mutations, observer) {{\n",
       "        var display = window.getComputedStyle(gd).display;\n",
       "        if (!display || display === 'none') {{\n",
       "            console.log([gd, 'removed!']);\n",
       "            Plotly.purge(gd);\n",
       "            observer.disconnect();\n",
       "        }}\n",
       "}});\n",
       "\n",
       "// Listen for the removal of the full notebook cells\n",
       "var notebookContainer = gd.closest('#notebook-container');\n",
       "if (notebookContainer) {{\n",
       "    x.observe(notebookContainer, {childList: true});\n",
       "}}\n",
       "\n",
       "// Listen for the clearing of the current output cell\n",
       "var outputEl = gd.closest('.output');\n",
       "if (outputEl) {{\n",
       "    x.observe(outputEl, {childList: true});\n",
       "}}\n",
       "\n",
       "                        })                };                });            </script>        </div>"
      ]
     },
     "metadata": {},
     "output_type": "display_data"
    }
   ],
   "source": [
    "learning_rate = 0.001\n",
    "epochs = 20\n",
    "batch_size = 50\n",
    "\n",
    "training_df.loc[:, 'TRIP_MINUTES'] = training_df['TRIP_SECONDS'] / 60\n",
    "\n",
    "features = ['TRIP_MILES', 'TRIP_MINUTES']\n",
    "label = 'FARE'\n",
    "\n",
    "model_5 = run_experiment(training_df, features, label, learning_rate, epochs, batch_size)"
   ]
  },
  {
   "cell_type": "code",
   "execution_count": 35,
   "metadata": {},
   "outputs": [],
   "source": [
    "def format_currency(x):\n",
    "  return \"${:.2f}\".format(x)\n",
    "\n",
    "def build_batch(df, batch_size):\n",
    "  batch = df.sample(n=batch_size).copy()\n",
    "  batch.set_index(np.arange(batch_size), inplace=True)\n",
    "  return batch\n",
    "\n",
    "def predict_fare(model, df, features, label, batch_size=50):\n",
    "  batch = build_batch(df, batch_size)\n",
    "  predicted_values = model.predict_on_batch(x=batch.loc[:, features].values)\n",
    "\n",
    "  data = {\"PREDICTED_FARE\": [], \"OBSERVED_FARE\": [], \"L1_LOSS\": [],\n",
    "          features[0]: [], features[1]: []}\n",
    "  for i in range(batch_size):\n",
    "    predicted = predicted_values[i][0]\n",
    "    observed = batch.at[i, label]\n",
    "    data[\"PREDICTED_FARE\"].append(format_currency(predicted))\n",
    "    data[\"OBSERVED_FARE\"].append(format_currency(observed))\n",
    "    data[\"L1_LOSS\"].append(format_currency(abs(observed - predicted)))\n",
    "    data[features[0]].append(batch.at[i, features[0]])\n",
    "    data[features[1]].append(\"{:.2f}\".format(batch.at[i, features[1]]))\n",
    "\n",
    "  output_df = pd.DataFrame(data)\n",
    "  return output_df\n",
    "\n",
    "def show_predictions(output):\n",
    "  header = \"-\" * 80\n",
    "  banner = header + \"\\n\" + \"|\" + \"PREDICTIONS\".center(78) + \"|\" + \"\\n\" + header\n",
    "  print(banner)\n",
    "  print(output)\n",
    "  return"
   ]
  },
  {
   "cell_type": "code",
   "execution_count": 36,
   "metadata": {},
   "outputs": [
    {
     "name": "stdout",
     "output_type": "stream",
     "text": [
      "--------------------------------------------------------------------------------\n",
      "|                                 PREDICTIONS                                  |\n",
      "--------------------------------------------------------------------------------\n",
      "   PREDICTED_FARE OBSERVED_FARE L1_LOSS  TRIP_MILES TRIP_MINUTES\n",
      "0          $16.99        $16.50   $0.49        5.31        16.83\n",
      "1          $34.25        $34.75   $0.50       13.84        16.83\n",
      "2          $25.32        $25.50   $0.18        9.11        21.28\n",
      "3           $6.85         $6.75   $0.10        1.00         7.00\n",
      "4           $8.03         $8.25   $0.22        1.30        11.00\n",
      "5           $7.51         $7.25   $0.26        1.26         7.93\n",
      "6          $50.55        $51.50   $0.95       21.26        25.75\n",
      "7          $39.54        $40.00   $0.46       15.90        24.63\n",
      "8          $44.16        $44.25   $0.09       17.80        30.00\n",
      "9          $11.38        $12.25   $0.87        2.32        19.95\n",
      "10         $46.49        $45.50   $0.99       18.10        42.00\n",
      "11         $27.18        $29.00   $1.82        9.14        33.85\n",
      "12         $27.17        $26.75   $0.42       10.20        18.80\n",
      "13         $38.45        $38.75   $0.30       15.72        19.57\n",
      "14         $33.16        $27.50   $5.66       11.80        38.00\n",
      "15          $6.17         $5.75   $0.42        0.82         4.80\n",
      "16          $7.16         $6.75   $0.41        1.20         6.37\n",
      "17         $32.08        $31.75   $0.33       12.35        22.70\n",
      "18          $8.30         $8.50   $0.20        1.40        11.43\n",
      "19         $19.82        $21.25   $1.43        5.11        39.38\n",
      "20          $5.96         $5.50   $0.46        0.70         5.00\n",
      "21         $18.15        $18.75   $0.60        5.60        20.88\n",
      "22         $49.34        $49.50   $0.16       18.80        52.00\n",
      "23         $34.76        $34.75   $0.01       12.50        39.27\n",
      "24         $45.32        $46.50   $1.18       18.47        28.63\n",
      "25          $7.35         $7.25   $0.10        1.13         8.67\n",
      "26         $42.54        $43.00   $0.46       17.17        27.62\n",
      "27          $8.07         $9.00   $0.93        1.48         8.72\n",
      "28         $37.65        $40.83   $3.18       14.85        26.27\n",
      "29         $24.62        $24.25   $0.37        9.00        18.00\n",
      "30          $7.22         $9.00   $1.78        1.25         6.03\n",
      "31         $10.65        $10.25   $0.40        2.51        12.20\n",
      "32         $12.60        $12.25   $0.35        3.43        12.78\n",
      "33         $29.28        $29.50   $0.22       10.83        24.65\n",
      "34          $9.82        $11.22   $1.40        2.11        12.02\n",
      "35          $6.13         $9.00   $2.87        0.79         4.92\n",
      "36         $36.53        $36.25   $0.28       14.40        24.78\n",
      "37         $39.02        $37.25   $1.77       14.30        43.53\n",
      "38         $12.04        $11.25   $0.79        3.40         9.30\n",
      "39         $12.17        $12.04   $0.13        3.63         7.00\n",
      "40          $6.59         $6.50   $0.09        0.80         8.00\n",
      "41          $6.42         $5.50   $0.92        1.00         4.00\n",
      "42         $50.72        $50.00   $0.72       18.30        68.68\n",
      "43         $16.42        $16.50   $0.08        5.30        13.00\n",
      "44          $5.71         $5.25   $0.46        0.65         4.02\n",
      "45          $6.77         $6.25   $0.52        1.06         5.58\n",
      "46          $5.46         $4.75   $0.71        0.54         3.78\n",
      "47          $6.14         $5.75   $0.39        0.76         5.47\n",
      "48         $46.13        $46.50   $0.37       18.26        37.23\n",
      "49          $8.29         $8.25   $0.04        1.50        10.00\n"
     ]
    }
   ],
   "source": [
    "output = predict_fare(model_5, training_df, features, label)\n",
    "show_predictions(output)"
   ]
  }
 ],
 "metadata": {
  "kernelspec": {
   "display_name": "sac1",
   "language": "python",
   "name": "python3"
  },
  "language_info": {
   "codemirror_mode": {
    "name": "ipython",
    "version": 3
   },
   "file_extension": ".py",
   "mimetype": "text/x-python",
   "name": "python",
   "nbconvert_exporter": "python",
   "pygments_lexer": "ipython3",
   "version": "3.12.3"
  }
 },
 "nbformat": 4,
 "nbformat_minor": 2
}
